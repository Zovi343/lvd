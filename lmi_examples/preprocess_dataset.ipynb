{
 "cells": [
  {
   "cell_type": "markdown",
   "source": [
    "**Author:** J. Žovák, `482857@mail.muni.cz`"
   ],
   "metadata": {
    "collapsed": false
   },
   "id": "fff27ad3052e3b10"
  },
  {
   "cell_type": "code",
   "execution_count": null,
   "id": "initial_id",
   "metadata": {
    "collapsed": true
   },
   "outputs": [],
   "source": [
    "import matplotlib.pyplot as plt\n",
    "import json\n",
    "import numpy as np"
   ]
  },
  {
   "cell_type": "code",
   "execution_count": null,
   "outputs": [],
   "source": [
    "dataset_name = \"hnm\"\n",
    "dir_path = f\"./data/{dataset_name}/\"\n",
    "payloads_path = dir_path + \"payloads.jsonl\"\n",
    "tests_path = dir_path + \"tests.jsonl\""
   ],
   "metadata": {
    "collapsed": false
   },
   "id": "ef7ac8848f0458c7"
  },
  {
   "cell_type": "code",
   "execution_count": null,
   "outputs": [],
   "source": [
    "with open(payloads_path, 'r') as file:\n",
    "    payloads = [json.loads(line) for line in file]"
   ],
   "metadata": {
    "collapsed": false
   },
   "id": "94eb4d49e17da11d"
  },
  {
   "cell_type": "code",
   "execution_count": null,
   "outputs": [],
   "source": [
    "# def preprocess_payloads(payloads):\n",
    "#     \"\"\"\n",
    "#     Preprocess payloads replacing None values with the string 'None'.\n",
    "#     :param payloads: A list of payload entries\n",
    "#     :return: The preprocessed list of payloads\n",
    "#     \"\"\"\n",
    "#     for payload in payloads:\n",
    "#         for key, value in payload.items():\n",
    "#             if value is None:\n",
    "#                 payload[key] = 'None'\n",
    "# \n",
    "# preprocess_payloads(payloads)"
   ],
   "metadata": {
    "collapsed": false
   },
   "id": "d1e1fdd231893811"
  },
  {
   "cell_type": "code",
   "execution_count": null,
   "outputs": [],
   "source": [
    "# # Store the preprocessed payloads back in the JSON Lines format\n",
    "# with open(payloads_path, 'w') as file:\n",
    "#     for payload in payloads:\n",
    "#         json_line = json.dumps(payload)\n",
    "#         file.write(json_line + '\\n')"
   ],
   "metadata": {
    "collapsed": false
   },
   "id": "1f6a662e8d8550bc"
  },
  {
   "cell_type": "code",
   "execution_count": null,
   "outputs": [],
   "source": [
    "payloads[0]"
   ],
   "metadata": {
    "collapsed": false
   },
   "id": "6f76efb995398ace"
  },
  {
   "cell_type": "code",
   "execution_count": null,
   "outputs": [],
   "source": [
    "unique_product_groups = set()\n",
    "\n",
    "for product in payloads:\n",
    "    unique_product_groups.add(product['product_group_name'])\n",
    "\n",
    "unique_count = len(unique_product_groups)\n",
    "print(\"Number of unique product group names:\", unique_count)"
   ],
   "metadata": {
    "collapsed": false
   },
   "id": "94e6a10bfe252651"
  },
  {
   "cell_type": "markdown",
   "source": [
    "# Load tests.jsonl as python list"
   ],
   "metadata": {
    "collapsed": false
   },
   "id": "db35c231eab5097"
  },
  {
   "cell_type": "code",
   "execution_count": null,
   "outputs": [],
   "source": [
    "with open(tests_path, 'r') as file:\n",
    "    tests = [json.loads(line) for line in file]"
   ],
   "metadata": {
    "collapsed": false
   },
   "id": "89f2724bd178e93c"
  },
  {
   "cell_type": "code",
   "execution_count": null,
   "outputs": [],
   "source": [
    "print(len(tests))"
   ],
   "metadata": {
    "collapsed": false
   },
   "id": "9dae3358b0195a8f"
  },
  {
   "cell_type": "code",
   "execution_count": null,
   "outputs": [],
   "source": [
    "print(tests[0]['closest_scores'])"
   ],
   "metadata": {
    "collapsed": false
   },
   "id": "38ccff898f62d781"
  },
  {
   "cell_type": "code",
   "execution_count": null,
   "outputs": [],
   "source": [
    "for test in tests:\n",
    "    test_condition = test.get('conditions', {})\n",
    "    if \"and\" not in test_condition or len(test_condition[\"and\"]) > 1:\n",
    "        print(test_condition)\n",
    "        break"
   ],
   "metadata": {
    "collapsed": false
   },
   "id": "3f58cb8640d516e2"
  },
  {
   "cell_type": "code",
   "execution_count": null,
   "outputs": [],
   "source": [
    "print(tests[0]['closest_ids'])"
   ],
   "metadata": {
    "collapsed": false
   },
   "id": "b10a44966033199"
  },
  {
   "cell_type": "markdown",
   "source": [
    "Check whether tests contains None values if yes they need to be processed to replace None with 'None'"
   ],
   "metadata": {
    "collapsed": false
   },
   "id": "3df83aa5c96df74b"
  },
  {
   "cell_type": "code",
   "execution_count": null,
   "outputs": [],
   "source": [
    "def contains_none(value):\n",
    "    \"\"\"\n",
    "    Recursively checks if the given value, which can be a dictionary,\n",
    "    a list, or any other type, contains None.\n",
    "    \"\"\"\n",
    "    if value is None:\n",
    "        return True\n",
    "    if isinstance(value, dict):\n",
    "        return any(contains_none(v) for v in value.values())\n",
    "    if isinstance(value, list):\n",
    "        return any(contains_none(item) for item in value)\n",
    "    return False\n",
    "\n",
    "def check_tests_for_none(tests):\n",
    "    \"\"\"\n",
    "    Checks if any of the dictionaries in the 'tests' list contains a None value\n",
    "    within the 'conditions' dictionary or any of its subdictionaries.\n",
    "    \"\"\"\n",
    "    for test in tests:\n",
    "        conditions = test.get('conditions', {})\n",
    "        if contains_none(conditions):\n",
    "            return True\n",
    "    return False\n",
    "\n",
    "\n",
    "print(check_tests_for_none(tests)) "
   ],
   "metadata": {
    "collapsed": false
   },
   "id": "97acdc708bae6ccf"
  },
  {
   "cell_type": "markdown",
   "source": [
    "## Create no filters dataset"
   ],
   "metadata": {
    "collapsed": false
   },
   "id": "2dc207cdb631e7f8"
  },
  {
   "cell_type": "code",
   "execution_count": null,
   "outputs": [],
   "source": [
    "remove_conditions = False\n",
    "if remove_conditions:\n",
    "    for test in tests:\n",
    "        test['conditions'] = None\n",
    "\n",
    "    with open(tests_path, 'w') as file:\n",
    "        for test in tests:\n",
    "            file.write(json.dumps(test) + '\\n')\n",
    "\n",
    "    print(\"Modification complete. 'conditions' key removed and original file overwritten.\")"
   ],
   "metadata": {
    "collapsed": false
   },
   "id": "ba83d16641bd666d"
  },
  {
   "cell_type": "markdown",
   "source": [
    "## Remove redundant queries with low selectivity"
   ],
   "metadata": {
    "collapsed": false
   },
   "id": "c30867f0ba437d8c"
  },
  {
   "cell_type": "code",
   "execution_count": null,
   "outputs": [],
   "source": [
    "len(tests)"
   ],
   "metadata": {
    "collapsed": false
   },
   "id": "15f6ca5926df0485"
  },
  {
   "cell_type": "code",
   "execution_count": null,
   "outputs": [],
   "source": [
    "# Load precomputed selectivity ratios for hnm\n",
    "with open(f\"./results/hnm/10_2_2024/\" + \"benchmark_hnm_ratios.json\", 'r') as file:\n",
    "    hnm_ratios = json.load(file)"
   ],
   "metadata": {
    "collapsed": false
   },
   "id": "a050d6e7e56c56c2"
  },
  {
   "cell_type": "code",
   "execution_count": null,
   "outputs": [],
   "source": [
    "def visualize_ratios(ratios):\n",
    "    bins = np.linspace(0.0, 0.5, num=11)  # 11 edges for 10 bins\n",
    "    \n",
    "    hist, _ = np.histogram(ratios, bins)\n",
    "    \n",
    "    plt.figure(figsize=(10, 6))\n",
    "    plt.bar(bins[:-1], hist, width=0.05, align='edge', edgecolor='black')\n",
    "    \n",
    "    plt.xlim(0, 0.5)\n",
    "    \n",
    "    plt.xlabel('% of Data Left', fontsize=16)\n",
    "    plt.ylabel('Query Count', fontsize=16)\n",
    "    plt.title('Number of Queries With Given Selectivity', fontsize=16)\n",
    "    \n",
    "    plt.xticks(fontsize=14)\n",
    "    plt.yticks(fontsize=14)\n",
    "    plt.tight_layout()\n",
    "    \n",
    "    plt.savefig(f'images/hnm_query_selectivity.pdf', format='pdf')\n",
    "    plt.show()"
   ],
   "metadata": {
    "collapsed": false
   },
   "id": "7310e6ed9514e734"
  },
  {
   "cell_type": "code",
   "execution_count": null,
   "outputs": [],
   "source": [
    "visualize_ratios(hnm_ratios)"
   ],
   "metadata": {
    "collapsed": false
   },
   "id": "256f38e49f1a3ab8"
  },
  {
   "cell_type": "code",
   "execution_count": null,
   "outputs": [],
   "source": [
    "reduce_hnm_dataset = False\n",
    "if reduce_hnm_dataset:\n",
    "    np_hnm_ratios = np.array(hnm_ratios)\n",
    "    \n",
    "    hnm_ratios_above = np.where(np_hnm_ratios > 0.13)[0]\n",
    "    hnm_ratios_bellow = np.where(np_hnm_ratios <= 0.13)[0]\n",
    "    \n",
    "    take_bellow = 2000 - hnm_ratios_above.size\n",
    "    hnm_ratios_bellow_to_2k = hnm_ratios_bellow[:take_bellow]\n",
    "    hnm2k_ratios_indexes = np.concatenate((hnm_ratios_bellow_to_2k, hnm_ratios_above), axis=0)\n"
   ],
   "metadata": {
    "collapsed": false
   },
   "id": "6744f58d9f37cd3f"
  },
  {
   "cell_type": "code",
   "execution_count": null,
   "outputs": [],
   "source": [
    "if reduce_hnm_dataset:\n",
    "    np_tests = np.array(tests)\n",
    "\n",
    "    np_tests_2k = np_tests[hnm2k_ratios_indexes]\n",
    "    \n",
    "    tests_2k = np_tests_2k.tolist()\n",
    "    \n",
    "    with open(tests_path, 'w') as file:\n",
    "        for test in tests_2k:\n",
    "            file.write(json.dumps(test) + '\\n')"
   ],
   "metadata": {
    "collapsed": false
   },
   "id": "2d9f5058e7bef4ad"
  },
  {
   "cell_type": "code",
   "execution_count": null,
   "outputs": [],
   "source": [
    "# visualize_ratios(np_hnm_ratios[hnm2k_ratios_indexes])"
   ],
   "metadata": {
    "collapsed": false
   },
   "id": "363dc2bc9e69ee4d"
  },
  {
   "cell_type": "code",
   "execution_count": null,
   "outputs": [],
   "source": [
    "tests_2k = tests"
   ],
   "metadata": {
    "collapsed": false
   },
   "id": "b5e68253666b01e5"
  },
  {
   "cell_type": "code",
   "execution_count": null,
   "outputs": [],
   "source": [
    "def apply_condition(payloads, condition):\n",
    "    \"\"\"\n",
    "    Apply a given condition to the list of payloads and return the filtered list.\n",
    "    \"\"\"\n",
    "    filtered_payloads = []\n",
    "    filtered_payloads_ids = []\n",
    "\n",
    "    if 'and' in condition:\n",
    "        for i, payload in enumerate(payloads):\n",
    "            if all(payload.get(key, None) == val['match']['value'] for cond in condition['and'] for key, val in cond.items()):\n",
    "                filtered_payloads.append(payload)\n",
    "                filtered_payloads_ids.append(str(i))\n",
    "    elif 'or' in condition:\n",
    "        for i, payload in enumerate(payloads):\n",
    "            if any(payload.get(key, None) == val['match']['value'] for cond in condition['or'] for key, val in cond.items()):\n",
    "                filtered_payloads.append(payload)\n",
    "                filtered_payloads_ids.append(str(i))\n",
    "\n",
    "    return filtered_payloads, filtered_payloads_ids"
   ],
   "metadata": {
    "collapsed": false
   },
   "id": "9d24ae948eebe10a"
  },
  {
   "cell_type": "code",
   "execution_count": null,
   "outputs": [],
   "source": [
    "ratios_2k = []\n",
    "\n",
    "for condition in [tests_2k[i]['conditions'] for i in range(len(tests_2k))]:\n",
    "    filtered_payloads, _ = apply_condition(payloads, condition)\n",
    "    ratio = len(filtered_payloads) / len(payloads)\n",
    "    ratios_2k.append(ratio)"
   ],
   "metadata": {
    "collapsed": false
   },
   "id": "1545ac1dcf5d4711"
  },
  {
   "cell_type": "code",
   "execution_count": null,
   "outputs": [],
   "source": [
    "visualize_ratios(ratios_2k)"
   ],
   "metadata": {
    "collapsed": false
   },
   "id": "396d05a251cdff01"
  },
  {
   "cell_type": "code",
   "execution_count": null,
   "outputs": [],
   "source": [
    "(np.array((ratios_2k)) > 0.10).sum()"
   ],
   "metadata": {
    "collapsed": false
   },
   "id": "b6d55878675a742e"
  }
 ],
 "metadata": {
  "kernelspec": {
   "display_name": "Python 3",
   "language": "python",
   "name": "python3"
  },
  "language_info": {
   "codemirror_mode": {
    "name": "ipython",
    "version": 2
   },
   "file_extension": ".py",
   "mimetype": "text/x-python",
   "name": "python",
   "nbconvert_exporter": "python",
   "pygments_lexer": "ipython2",
   "version": "2.7.6"
  }
 },
 "nbformat": 4,
 "nbformat_minor": 5
}
