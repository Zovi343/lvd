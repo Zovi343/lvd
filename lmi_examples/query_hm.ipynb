{
 "cells": [
  {
   "cell_type": "code",
   "execution_count": null,
   "id": "initial_id",
   "metadata": {
    "collapsed": true
   },
   "outputs": [],
   "source": [
    "import json\n",
    "import numpy as np\n",
    "from tqdm.notebook import tqdm\n",
    "import chromadb\n",
    "import statistics"
   ]
  },
  {
   "cell_type": "code",
   "execution_count": null,
   "outputs": [],
   "source": [
    "# File paths\n",
    "dir_path = \"data/hnm/\"\n",
    "vectors_path = dir_path + \"vectors.npy\"\n",
    "payloads_path = dir_path + \"payloads.jsonl\"\n",
    "tests_path = dir_path + \"tests.jsonl\"\n",
    "\n",
    "# Load vectors as numpy array\n",
    "vectors = np.load(vectors_path)\n",
    "\n",
    "# Load payloads.jsonl as python list\n",
    "with open(payloads_path, 'r') as file:\n",
    "    payloads = [json.loads(line) for line in file]\n",
    "\n",
    "# Load tests.jsonl as python list\n",
    "with open(tests_path, 'r') as file:\n",
    "    tests = [json.loads(line) for line in file]\n",
    "\n",
    "(vectors.shape, len(payloads), len(tests))\n"
   ],
   "metadata": {
    "collapsed": false
   },
   "id": "25d6fedc0af76997"
  },
  {
   "cell_type": "code",
   "execution_count": null,
   "outputs": [],
   "source": [
    "# Check whether all filter conditions have same format\n",
    "def check_conditions_format(queries):\n",
    "    # Define the format for comparison\n",
    "    required_format = {'and': [{'some_str': {'match': {'value': 'some_str'}}}]}\n",
    "\n",
    "    # Check each query's conditions format\n",
    "    for query in queries:\n",
    "        conditions = query.get('conditions', {})\n",
    "        # Check the outermost keys\n",
    "        if list(conditions.keys()) != ['and']:\n",
    "            return False\n",
    "        # Check the inner structure\n",
    "        for condition in conditions['and']:\n",
    "            if len(condition) > 1:\n",
    "                return False\n",
    "            if not isinstance(condition, dict) or len(condition) != 1:\n",
    "                return False\n",
    "            for key, value in condition.items():\n",
    "                if not isinstance(value, dict) or list(value.keys()) != ['match']:\n",
    "                    return False\n",
    "                if list(value['match'].keys()) != ['value']:\n",
    "                    return False\n",
    "    return True\n",
    "\n",
    "check_conditions_format(tests)"
   ],
   "metadata": {
    "collapsed": false
   },
   "id": "c05fbb868817d653"
  },
  {
   "cell_type": "code",
   "execution_count": null,
   "outputs": [],
   "source": [
    "def preprocess_payloads(payloads):\n",
    "    \"\"\"\n",
    "    Preprocess payloads replacing None values with the string 'None'.\n",
    "    :param payloads: A list of payload entries\n",
    "    :return: The preprocessed list of payloads\n",
    "    \"\"\"\n",
    "    for payload in payloads:\n",
    "        for key, value in payload.items():\n",
    "            if value is None:\n",
    "                payload[key] = 'None'\n",
    "\n",
    "preprocess_payloads(payloads)"
   ],
   "metadata": {
    "collapsed": false
   },
   "id": "683e0fc89272076f"
  },
  {
   "cell_type": "code",
   "execution_count": null,
   "outputs": [],
   "source": [
    "# Configuration from SISAP 2023 Indexing Challenge - LMI except n_categories\n",
    "index_configuraiton = {\n",
    "    \"lmi:epochs\": \"[200]\",\n",
    "    \"lmi:model_types\": \"['MLP-4']\",\n",
    "    \"lmi:lrs\": \"[0.01]\",\n",
    "    \"lmi:n_categories\": \"[20]\",\n",
    "    \"lmi:kmeans\": \"{'verbose': False, 'seed': 2023, 'min_points_per_centroid': 1000}\",\n",
    "}"
   ],
   "metadata": {
    "collapsed": false
   },
   "id": "56222316360dc375"
  },
  {
   "cell_type": "code",
   "execution_count": null,
   "outputs": [],
   "source": [
    "client = chromadb.Client()\n",
    "\n",
    "collection_name = \"synthetic_collection\"\n",
    "collection = client.create_collection(\n",
    "    name=collection_name,\n",
    "    metadata=index_configuraiton\n",
    ")"
   ],
   "metadata": {
    "collapsed": false
   },
   "id": "d9509da366caa8d8"
  },
  {
   "cell_type": "code",
   "execution_count": null,
   "outputs": [],
   "source": [
    "batch_size = 40000\n",
    "dataset_size = vectors.shape[0]\n",
    "for i in tqdm(range(0, dataset_size, batch_size), desc=\"Adding documents\"):\n",
    "    collection.add(\n",
    "        embeddings=vectors[i: i + batch_size].tolist(),\n",
    "        metadatas=payloads[i: i + batch_size],\n",
    "        ids=[\n",
    "            str(i) for i in range(i, min(i + batch_size, dataset_size))\n",
    "        ]\n",
    "    )"
   ],
   "metadata": {
    "collapsed": false
   },
   "id": "a0fbc9db45050bb1"
  },
  {
   "cell_type": "code",
   "execution_count": null,
   "outputs": [],
   "source": [
    "%%time\n",
    "bucket_assignment = collection.build_index()"
   ],
   "metadata": {
    "collapsed": false
   },
   "id": "261bf6e1c28f8138"
  },
  {
   "cell_type": "code",
   "execution_count": null,
   "outputs": [],
   "source": [
    "def convert_condition_to_simple_dict(condition):\n",
    "    key = list(condition['and'][0].keys())[0]  # Extract key from the first item\n",
    "    value = condition['and'][0][key]['match']['value']  # Extract value from the nested structure\n",
    "    return {key: value}\n",
    "\n",
    "def calculate_precision(relevant_ids, retrieved_ids):\n",
    "    retrieved_ids = set(map(int, retrieved_ids))  # Convert retrieved IDs to integers and remove duplicates\n",
    "    relevant_ids = set(relevant_ids)  # Remove duplicates\n",
    "    true_positives = len(relevant_ids & retrieved_ids)\n",
    "    return true_positives / len(retrieved_ids) if retrieved_ids else 0"
   ],
   "metadata": {
    "collapsed": false
   },
   "id": "87eaac39521a7c7d"
  },
  {
   "cell_type": "code",
   "execution_count": null,
   "outputs": [],
   "source": [
    "%%time\n",
    "queries_evaluated = []\n",
    "\n",
    "for query_id in [ 32]:\n",
    "    print(\"query_id\", query_id)\n",
    "    test_query_object = tests[query_id]\n",
    "    results = collection.query(\n",
    "        query_embeddings=test_query_object[\"query\"],\n",
    "        include=[\"metadatas\",  'distances'],\n",
    "        where=convert_condition_to_simple_dict(test_query_object[\"conditions\"]),\n",
    "        n_results=25,\n",
    "        n_buckets=2,\n",
    "        constraint_weight=0.0,\n",
    "    )\n",
    "    queries_evaluated.append(calculate_precision(tests[query_id][\"closest_ids\"], results['ids'][0]))"
   ],
   "metadata": {
    "collapsed": false
   },
   "id": "b627775f826c435"
  },
  {
   "cell_type": "code",
   "execution_count": null,
   "outputs": [],
   "source": [
    "print(queries_evaluated)"
   ],
   "metadata": {
    "collapsed": false
   },
   "id": "c551771acd81772e"
  },
  {
   "cell_type": "code",
   "execution_count": null,
   "outputs": [],
   "source": [
    "print(queries_evaluated)\n",
    "indexes = [i for i, val in enumerate(queries_evaluated) if val == 0.0]\n",
    "print(\"indexes with zero precision: \", indexes)"
   ],
   "metadata": {
    "collapsed": false
   },
   "id": "ea49bea8007dc5a9"
  },
  {
   "cell_type": "code",
   "execution_count": null,
   "outputs": [],
   "source": [
    "print(\"Average precision: \", sum(queries_evaluated) / len(queries_evaluated))\n",
    "print(\"Median precision: \", statistics.median(queries_evaluated))"
   ],
   "metadata": {
    "collapsed": false
   },
   "id": "30b8aa3c0d37d06b"
  },
  {
   "cell_type": "code",
   "execution_count": null,
   "outputs": [],
   "source": [],
   "metadata": {
    "collapsed": false
   },
   "id": "bbb032334d9589ec"
  }
 ],
 "metadata": {
  "kernelspec": {
   "display_name": "Python 3",
   "language": "python",
   "name": "python3"
  },
  "language_info": {
   "codemirror_mode": {
    "name": "ipython",
    "version": 2
   },
   "file_extension": ".py",
   "mimetype": "text/x-python",
   "name": "python",
   "nbconvert_exporter": "python",
   "pygments_lexer": "ipython2",
   "version": "2.7.6"
  }
 },
 "nbformat": 4,
 "nbformat_minor": 5
}
