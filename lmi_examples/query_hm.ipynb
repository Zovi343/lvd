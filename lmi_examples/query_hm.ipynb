{
 "cells": [
  {
   "cell_type": "code",
   "execution_count": 27,
   "id": "initial_id",
   "metadata": {
    "collapsed": true,
    "ExecuteTime": {
     "end_time": "2024-01-04T14:52:47.847096800Z",
     "start_time": "2024-01-04T14:52:47.839568100Z"
    }
   },
   "outputs": [],
   "source": [
    "import json\n",
    "import numpy as np\n",
    "from tqdm.notebook import tqdm\n",
    "import chromadb\n",
    "import statistics\n",
    "import matplotlib.pyplot as plt\n",
    "import seaborn as sns\n",
    "import pandas as pd\n",
    "import json\n",
    "import time"
   ]
  },
  {
   "cell_type": "markdown",
   "source": [
    "# LVD Filtering Benchmark on HNM dataset"
   ],
   "metadata": {
    "collapsed": false
   },
   "id": "8bbec181ba889923"
  },
  {
   "cell_type": "markdown",
   "source": [
    "The notbook uses [H&M](https://github.com/qdrant/ann-filtering-benchmark-datasets?tab=readme-ov-file) dataset encoded with Efficientnet for experiments. Original the data is from [Kaggle](https://www.kaggle.com/competitions/h-and-m-personalized-fashion-recommendations/data). "
   ],
   "metadata": {
    "collapsed": false
   },
   "id": "3926442d4407dbe6"
  },
  {
   "cell_type": "markdown",
   "source": [],
   "metadata": {
    "collapsed": false
   },
   "id": "f549ca476143bb2a"
  },
  {
   "cell_type": "markdown",
   "source": [
    "## Load data"
   ],
   "metadata": {
    "collapsed": false
   },
   "id": "d170daebdff33cc6"
  },
  {
   "cell_type": "code",
   "execution_count": 2,
   "outputs": [
    {
     "data": {
      "text/plain": "((105100, 2048), 105100, 10000)"
     },
     "execution_count": 2,
     "metadata": {},
     "output_type": "execute_result"
    }
   ],
   "source": [
    "# File paths\n",
    "dir_path = \"data/hnm/\"\n",
    "vectors_path = dir_path + \"vectors.npy\"\n",
    "payloads_path = dir_path + \"payloads.jsonl\"\n",
    "tests_path = dir_path + \"tests.jsonl\"\n",
    "\n",
    "# Load vectors as numpy array\n",
    "vectors = np.load(vectors_path)\n",
    "\n",
    "# Load payloads.jsonl as python list\n",
    "with open(payloads_path, 'r') as file:\n",
    "    payloads = [json.loads(line) for line in file]\n",
    "\n",
    "# Load tests.jsonl as python list\n",
    "with open(tests_path, 'r') as file:\n",
    "    tests = [json.loads(line) for line in file]\n",
    "\n",
    "(vectors.shape, len(payloads), len(tests))\n"
   ],
   "metadata": {
    "collapsed": false,
    "ExecuteTime": {
     "end_time": "2024-01-04T13:34:44.472913800Z",
     "start_time": "2024-01-04T13:34:34.654605Z"
    }
   },
   "id": "25d6fedc0af76997"
  },
  {
   "cell_type": "markdown",
   "source": [
    "### Check whether filter have same format and preprocess dataset"
   ],
   "metadata": {
    "collapsed": false
   },
   "id": "ef2096dabd882bb5"
  },
  {
   "cell_type": "code",
   "execution_count": 3,
   "outputs": [
    {
     "data": {
      "text/plain": "True"
     },
     "execution_count": 3,
     "metadata": {},
     "output_type": "execute_result"
    }
   ],
   "source": [
    "# Check whether all filter conditions have same format\n",
    "def check_conditions_format(queries):\n",
    "    # Define the format for comparison\n",
    "    required_format = {'and': [{'some_str': {'match': {'value': 'some_str'}}}]}\n",
    "\n",
    "    # Check each query's conditions format\n",
    "    for query in queries:\n",
    "        conditions = query.get('conditions', {})\n",
    "        # Check the outermost keys\n",
    "        if list(conditions.keys()) != ['and']:\n",
    "            return False\n",
    "        # Check the inner structure\n",
    "        for condition in conditions['and']:\n",
    "            if len(condition) > 1:\n",
    "                return False\n",
    "            if not isinstance(condition, dict) or len(condition) != 1:\n",
    "                return False\n",
    "            for key, value in condition.items():\n",
    "                if not isinstance(value, dict) or list(value.keys()) != ['match']:\n",
    "                    return False\n",
    "                if list(value['match'].keys()) != ['value']:\n",
    "                    return False\n",
    "    return True\n",
    "\n",
    "check_conditions_format(tests)"
   ],
   "metadata": {
    "collapsed": false,
    "ExecuteTime": {
     "end_time": "2024-01-04T13:34:44.547454200Z",
     "start_time": "2024-01-04T13:34:44.497387Z"
    }
   },
   "id": "c05fbb868817d653"
  },
  {
   "cell_type": "code",
   "execution_count": 4,
   "outputs": [],
   "source": [
    "def preprocess_payloads(payloads):\n",
    "    \"\"\"\n",
    "    Preprocess payloads replacing None values with the string 'None'.\n",
    "    :param payloads: A list of payload entries\n",
    "    :return: The preprocessed list of payloads\n",
    "    \"\"\"\n",
    "    for payload in payloads:\n",
    "        for key, value in payload.items():\n",
    "            if value is None:\n",
    "                payload[key] = 'None'\n",
    "\n",
    "preprocess_payloads(payloads)"
   ],
   "metadata": {
    "collapsed": false,
    "ExecuteTime": {
     "end_time": "2024-01-04T13:34:44.646435500Z",
     "start_time": "2024-01-04T13:34:44.506471300Z"
    }
   },
   "id": "683e0fc89272076f"
  },
  {
   "cell_type": "markdown",
   "source": [
    "#### Metadata Example"
   ],
   "metadata": {
    "collapsed": false
   },
   "id": "2ad2bff653912079"
  },
  {
   "cell_type": "code",
   "execution_count": 67,
   "outputs": [
    {
     "name": "stdout",
     "output_type": "stream",
     "text": [
      "{\n",
      "    \"colour_group_code\": 31,\n",
      "    \"colour_group_name\": \"Light Orange\",\n",
      "    \"department_name\": \"Divided Shoes\",\n",
      "    \"department_no\": 3929,\n",
      "    \"detail_desc\": \"Ankle boots with lacing at the front, a loop at the back, fabric linings, imitation leather insoles and chunky rubber soles. Platform front 2 cm, heel 4.5 cm.\",\n",
      "    \"garment_group_name\": \"Shoes\",\n",
      "    \"garment_group_no\": 1020,\n",
      "    \"graphical_appearance_name\": \"Solid\",\n",
      "    \"graphical_appearance_no\": 1010016,\n",
      "    \"index_code\": \"D\",\n",
      "    \"index_group_name\": \"Divided\",\n",
      "    \"index_group_no\": 2,\n",
      "    \"index_name\": \"Divided\",\n",
      "    \"perceived_colour_master_id\": 3,\n",
      "    \"perceived_colour_master_name\": \"Orange\",\n",
      "    \"perceived_colour_value_id\": 1,\n",
      "    \"perceived_colour_value_name\": \"Dusty Light\",\n",
      "    \"prod_name\": \"CHRISTINA BOOT\",\n",
      "    \"product_code\": 401729,\n",
      "    \"product_group_name\": \"Shoes\",\n",
      "    \"product_type_name\": \"Boots\",\n",
      "    \"product_type_no\": 87,\n",
      "    \"section_name\": \"Divided Accessories\",\n",
      "    \"section_no\": 52\n",
      "}\n"
     ]
    }
   ],
   "source": [
    "print(json.dumps(payloads[0], indent=4, sort_keys=True))"
   ],
   "metadata": {
    "collapsed": false,
    "ExecuteTime": {
     "end_time": "2024-01-04T18:28:23.555077Z",
     "start_time": "2024-01-04T18:28:23.524899800Z"
    }
   },
   "id": "12b5785e664424b5"
  },
  {
   "cell_type": "markdown",
   "source": [
    "## Setup Database"
   ],
   "metadata": {
    "collapsed": false
   },
   "id": "34e21cbea68796f6"
  },
  {
   "cell_type": "code",
   "execution_count": 5,
   "outputs": [],
   "source": [
    "# Configuration from SISAP 2023 Indexing Challenge - LMI except n_categories\n",
    "index_configuraiton = {\n",
    "    \"lmi:epochs\": \"[200]\",\n",
    "    \"lmi:model_types\": \"['MLP-4']\",\n",
    "    \"lmi:lrs\": \"[0.01]\",\n",
    "    \"lmi:n_categories\": \"[20]\",\n",
    "    \"lmi:kmeans\": \"{'verbose': False, 'seed': 2023, 'min_points_per_centroid': 1000}\",\n",
    "}"
   ],
   "metadata": {
    "collapsed": false,
    "ExecuteTime": {
     "end_time": "2024-01-04T13:34:44.658965700Z",
     "start_time": "2024-01-04T13:34:44.647640500Z"
    }
   },
   "id": "56222316360dc375"
  },
  {
   "cell_type": "code",
   "execution_count": 6,
   "outputs": [],
   "source": [
    "client = chromadb.Client()\n",
    "\n",
    "collection_name = \"synthetic_collection\"\n",
    "collection = client.create_collection(\n",
    "    name=collection_name,\n",
    "    metadata=index_configuraiton\n",
    ")"
   ],
   "metadata": {
    "collapsed": false,
    "ExecuteTime": {
     "end_time": "2024-01-04T13:34:47.416614300Z",
     "start_time": "2024-01-04T13:34:44.658781900Z"
    }
   },
   "id": "d9509da366caa8d8"
  },
  {
   "cell_type": "markdown",
   "source": [
    "### Load data in batches"
   ],
   "metadata": {
    "collapsed": false
   },
   "id": "6e24b81111d7d8e7"
  },
  {
   "cell_type": "code",
   "execution_count": 7,
   "outputs": [
    {
     "data": {
      "text/plain": "Adding documents:   0%|          | 0/3 [00:00<?, ?it/s]",
      "application/vnd.jupyter.widget-view+json": {
       "version_major": 2,
       "version_minor": 0,
       "model_id": "2a7a430f22604e3598a9783277d5c2b7"
      }
     },
     "metadata": {},
     "output_type": "display_data"
    },
    {
     "name": "stdout",
     "output_type": "stream",
     "text": [
      "\n",
      "            LMI Build Config:\n",
      "            {\n",
      "                clustering_algorithms: [<function cluster at 0x000002C0D2C43F70>],\n",
      "                epochs: [200],\n",
      "                model_types: ['MLP-4'],\n",
      "                learning_rate: [0.01],\n",
      "                n_categories: [20],\n",
      "            }\n",
      "             \n"
     ]
    }
   ],
   "source": [
    "batch_size = 40000\n",
    "dataset_size = vectors.shape[0]\n",
    "for i in tqdm(range(0, dataset_size, batch_size), desc=\"Adding documents\"):\n",
    "    collection.add(\n",
    "        embeddings=vectors[i: i + batch_size].tolist(),\n",
    "        metadatas=payloads[i: i + batch_size],\n",
    "        ids=[\n",
    "            str(i) for i in range(i, min(i + batch_size, dataset_size))\n",
    "        ]\n",
    "    )"
   ],
   "metadata": {
    "collapsed": false,
    "ExecuteTime": {
     "end_time": "2024-01-04T13:51:13.480761500Z",
     "start_time": "2024-01-04T13:34:47.417736500Z"
    }
   },
   "id": "a0fbc9db45050bb1"
  },
  {
   "cell_type": "code",
   "execution_count": 8,
   "outputs": [
    {
     "name": "stdout",
     "output_type": "stream",
     "text": [
      "FAISS Kmeans parameters {'verbose': False, 'seed': 2023, 'min_points_per_centroid': 1000}\n",
      "LMI built with n_buckets_in_index: 20\n",
      "Time taken to build: 738.0564396381378; Time taken to cluster: 2.412471294403076\n",
      "CPU times: total: 1h 8min 14s\n",
      "Wall time: 12min 32s\n"
     ]
    }
   ],
   "source": [
    "%%time\n",
    "bucket_assignment = collection.build_index()"
   ],
   "metadata": {
    "collapsed": false,
    "ExecuteTime": {
     "end_time": "2024-01-04T14:03:46.144148800Z",
     "start_time": "2024-01-04T13:51:13.490724700Z"
    }
   },
   "id": "261bf6e1c28f8138"
  },
  {
   "cell_type": "code",
   "execution_count": 23,
   "outputs": [],
   "source": [
    "def plot_bucket_items(data):\n",
    "    \"\"\"\n",
    "    Plot the number of items in each bucket, with optional color coding by cluster.\n",
    "\n",
    "    Parameters:\n",
    "    data (DataFrame): The data frame containing the 'id', 'bucket', and 'cluster' columns.\n",
    "    use_colors (bool): If True, use different colors for each cluster in the visualization.\n",
    "    \"\"\"\n",
    "    # Count the total number of items in each bucket\n",
    "    bucket_counts = data.groupby('bucket_str').size()\n",
    "    plot_data = bucket_counts.reset_index(name='count')\n",
    "\n",
    "    # Create the bar plot without colors\n",
    "    plt.figure(figsize=(10, 6))\n",
    "    ax = sns.barplot(data=plot_data, x='bucket_str', y='count')\n",
    "    \n",
    "    plt.title('Number of Items in Each Bucket')\n",
    "    plt.xlabel('Bucket')\n",
    "    plt.ylabel('Count')\n",
    "\n",
    "    # Annotate each bar with the count of elements\n",
    "    for p in ax.patches:\n",
    "        bar_height = int(p.get_height())\n",
    "        if bar_height > 0:  # Only annotate bars with a height greater than zero\n",
    "            ax.annotate(f'{bar_height}', (p.get_x() + p.get_width() / 2., bar_height),\n",
    "                        ha='center', va='center', fontsize=10, color='black', xytext=(0, 5),\n",
    "                        textcoords='offset points')\n"
   ],
   "metadata": {
    "collapsed": false,
    "ExecuteTime": {
     "end_time": "2024-01-04T14:22:31.670923800Z",
     "start_time": "2024-01-04T14:22:31.662081Z"
    }
   },
   "id": "b7ed2aaacd2e28b"
  },
  {
   "cell_type": "code",
   "execution_count": 21,
   "outputs": [],
   "source": [
    "data_buckets = pd.DataFrame([str(i) for i in range(vectors.shape[0])], columns=[\"id\"])\n",
    "data_buckets['bucket'] = data_buckets['id'].map(lambda x: list(bucket_assignment.get(x, [])))\n",
    "data_buckets['bucket_str'] = data_buckets['bucket'].apply(lambda x: str(x))"
   ],
   "metadata": {
    "collapsed": false,
    "ExecuteTime": {
     "end_time": "2024-01-04T14:22:13.457377800Z",
     "start_time": "2024-01-04T14:22:12.736910400Z"
    }
   },
   "id": "edae278afa9c25fe"
  },
  {
   "cell_type": "code",
   "execution_count": 24,
   "outputs": [
    {
     "data": {
      "text/plain": "<Figure size 1000x600 with 1 Axes>",
      "image/png": "[encoded data removed]"
     },
     "metadata": {},
     "output_type": "display_data"
    }
   ],
   "source": [
    "plot_bucket_items(data_buckets)"
   ],
   "metadata": {
    "collapsed": false,
    "ExecuteTime": {
     "end_time": "2024-01-04T14:22:33.861662800Z",
     "start_time": "2024-01-04T14:22:33.306269700Z"
    }
   },
   "id": "f679bfb637d0049c"
  },
  {
   "cell_type": "markdown",
   "source": [
    "## Query Database"
   ],
   "metadata": {
    "collapsed": false
   },
   "id": "c42b82cb6b26f19"
  },
  {
   "cell_type": "code",
   "execution_count": 61,
   "outputs": [
    {
     "name": "stdout",
     "output_type": "stream",
     "text": [
      "\n",
      " ------- Query Example ------- \n",
      "\n",
      "Vector: [-0.06725436449050903, -0.19710825383663177, 0.3426515758037567, -0.06845792382955551, -0.18674862384796143, ... ]\n",
      "Constraint:  {'and': [{'product_group_name': {'match': {'value': 'Shoes'}}}]}\n",
      "Ground truth:  [85488, 102751, 75069, 85976, 8513, 35864, 47721, 12186, 11979, 34106, 50895, 57416, 71679, 38919, 92552, 34113, 37268, 91915, 53456, 71555, 51393, 56265, 76848, 27845, 74693]\n",
      "Closest scores: [0.31185147166252136, 0.30615049600601196, 0.2900885343551636, 0.28790873289108276, 0.28515058755874634, ... ]\n"
     ]
    }
   ],
   "source": [
    "print('\\n ------- Query Example ------- \\n')\n",
    "print('Vector: ' + str(tests[0]['query'][:5]).rstrip(\"]\") + \", ... ]\")\n",
    "print('Constraint: ', tests[0]['conditions'])\n",
    "print('Ground truth: ', tests[0]['closest_ids'])\n",
    "print('Closest scores: '+ str(tests[0]['closest_scores'][:5]).rstrip(\"]\") + \", ... ]\")"
   ],
   "metadata": {
    "collapsed": false,
    "ExecuteTime": {
     "end_time": "2024-01-04T18:22:43.565123100Z",
     "start_time": "2024-01-04T18:22:43.546102900Z"
    }
   },
   "id": "cdea2242aad69bc6"
  },
  {
   "cell_type": "code",
   "execution_count": 9,
   "outputs": [],
   "source": [
    "def convert_condition_to_simple_dict(condition):\n",
    "    key = list(condition['and'][0].keys())[0]  # Extract key from the first item\n",
    "    value = condition['and'][0][key]['match']['value']  # Extract value from the nested structure\n",
    "    return {key: value}\n",
    "\n",
    "def calculate_precision(relevant_ids, retrieved_ids):\n",
    "    retrieved_ids = set(map(int, retrieved_ids))  # Convert retrieved IDs to integers and remove duplicates\n",
    "    relevant_ids = set(relevant_ids)  # Remove duplicates\n",
    "    true_positives = len(relevant_ids & retrieved_ids)\n",
    "    return true_positives / len(retrieved_ids) if retrieved_ids else 0"
   ],
   "metadata": {
    "collapsed": false,
    "ExecuteTime": {
     "end_time": "2024-01-04T14:03:46.164052400Z",
     "start_time": "2024-01-04T14:03:46.142140200Z"
    }
   },
   "id": "87eaac39521a7c7d"
  },
  {
   "cell_type": "code",
   "execution_count": null,
   "outputs": [],
   "source": [
    "%%time\n",
    "queries_evaluated = []\n",
    "lmi_queries = []\n",
    "lmi_used = 0\n",
    "total_queries = 100\n",
    "\n",
    "start = time.time()\n",
    "for query_id in range(total_queries):\n",
    "    print(\"query_id\", query_id)\n",
    "    test_query_object = tests[query_id]\n",
    "    results = collection.query(\n",
    "        query_embeddings=test_query_object[\"query\"],\n",
    "        include=[\"metadatas\",  'distances'],\n",
    "        where=convert_condition_to_simple_dict(test_query_object[\"conditions\"]),\n",
    "        n_results=25,\n",
    "        n_buckets=1,\n",
    "        constraint_weight=-1,\n",
    "        bruteforce_threshold=0.1\n",
    "    )\n",
    "    if -1 not in results['bucket_order']:\n",
    "        lmi_queries.append(query_id)\n",
    "        lmi_used += 1\n",
    "    queries_evaluated.append(calculate_precision(tests[query_id][\"closest_ids\"], results['ids'][0]))\n",
    "end = time.time()\n",
    "wall_time = end - start"
   ],
   "metadata": {
    "collapsed": false
   },
   "id": "b627775f826c435"
  },
  {
   "cell_type": "markdown",
   "source": [
    "### Evaluation"
   ],
   "metadata": {
    "collapsed": false
   },
   "id": "7ca448138a514f1d"
  },
  {
   "cell_type": "code",
   "execution_count": 70,
   "outputs": [
    {
     "name": "stdout",
     "output_type": "stream",
     "text": [
      "lmi_used 25\n",
      "lmi_average_precision 0.5298666666666666\n",
      "lmi_median_precision 0.48\n"
     ]
    }
   ],
   "source": [
    "print('lmi_used', lmi_used)\n",
    "bruteforce_used = total_queries - lmi_used\n",
    "\n",
    "lmi_precisions = [queries_evaluated[i] for i in lmi_queries]\n",
    "print('lmi_average_precision', sum(lmi_precisions) / len(lmi_precisions))\n",
    "print('lmi_median_precision', statistics.median(lmi_precisions))"
   ],
   "metadata": {
    "collapsed": false,
    "ExecuteTime": {
     "end_time": "2024-01-04T18:34:49.638910300Z",
     "start_time": "2024-01-04T18:34:49.620934Z"
    }
   },
   "id": "2e079937c79d62fb"
  },
  {
   "cell_type": "code",
   "execution_count": 26,
   "outputs": [
    {
     "name": "stdout",
     "output_type": "stream",
     "text": [
      "indexes with zero precision:  [32]\n"
     ]
    }
   ],
   "source": [
    "# print(queries_evaluated)\n",
    "indexes = [i for i, val in enumerate(queries_evaluated) if val == 0.0]\n",
    "print(\"indexes with zero precision: \", indexes)"
   ],
   "metadata": {
    "collapsed": false,
    "ExecuteTime": {
     "end_time": "2024-01-04T14:40:58.949696100Z",
     "start_time": "2024-01-04T14:40:58.934710700Z"
    }
   },
   "id": "ea49bea8007dc5a9"
  },
  {
   "cell_type": "code",
   "execution_count": 34,
   "outputs": [
    {
     "name": "stdout",
     "output_type": "stream",
     "text": [
      "Average precision:  0.8824666666666668\n",
      "Median precision:  1.0\n",
      "Wall Time  102.75298428535461\n"
     ]
    }
   ],
   "source": [
    "avg_precision = sum(queries_evaluated) / len(queries_evaluated)\n",
    "print(\"Average precision: \", avg_precision)\n",
    "print(\"Median precision: \", statistics.median(queries_evaluated))\n",
    "print(\"Wall Time \", wall_time)"
   ],
   "metadata": {
    "collapsed": false,
    "ExecuteTime": {
     "end_time": "2024-01-04T15:10:18.460134900Z",
     "start_time": "2024-01-04T15:10:18.430788900Z"
    }
   },
   "id": "30b8aa3c0d37d06b"
  },
  {
   "cell_type": "code",
   "execution_count": 63,
   "outputs": [],
   "source": [
    "with open('./chroma_hnsw_hnm_100q.json', 'r') as file:\n",
    "    chroma_results = json.load(file)"
   ],
   "metadata": {
    "collapsed": false,
    "ExecuteTime": {
     "end_time": "2024-01-04T18:26:49.098209500Z",
     "start_time": "2024-01-04T18:26:49.088895Z"
    }
   },
   "id": "bbb032334d9589ec"
  },
  {
   "cell_type": "code",
   "execution_count": 36,
   "outputs": [],
   "source": [
    "chroma_results['chroma_lmi'] = {}\n",
    "chroma_results['chroma_lmi']['avg_precision'] = avg_precision\n",
    "chroma_results['chroma_lmi']['median_precision'] = statistics.median(queries_evaluated)\n",
    "chroma_results['chroma_lmi']['wall time'] = wall_time"
   ],
   "metadata": {
    "collapsed": false,
    "ExecuteTime": {
     "end_time": "2024-01-04T15:11:06.027902Z",
     "start_time": "2024-01-04T15:11:06.017768900Z"
    }
   },
   "id": "bd99f9b0f0a3302c"
  },
  {
   "cell_type": "code",
   "execution_count": 37,
   "outputs": [
    {
     "data": {
      "text/plain": "{'chroma_hnsw': {'avg_precision': 0.6628000000000003,\n  'median_precision': 0.76,\n  'wall time': 77.90504598617554},\n 'chroma_lmi': {'avg_precision': 0.8824666666666668,\n  'median_precision': 1.0,\n  'wall time': 102.75298428535461}}"
     },
     "execution_count": 37,
     "metadata": {},
     "output_type": "execute_result"
    }
   ],
   "source": [
    "chroma_results"
   ],
   "metadata": {
    "collapsed": false,
    "ExecuteTime": {
     "end_time": "2024-01-04T15:11:14.182336100Z",
     "start_time": "2024-01-04T15:11:14.153910700Z"
    }
   },
   "id": "a6395ebb6170d1b3"
  },
  {
   "cell_type": "code",
   "execution_count": 75,
   "outputs": [
    {
     "data": {
      "text/plain": "<Figure size 800x800 with 1 Axes>",
      "image/png": "[encoded data removed]"
     },
     "metadata": {},
     "output_type": "display_data"
    }
   ],
   "source": [
    "# Setting up the color palette from seaborn specifically for nice purple and green\n",
    "colors = sns.color_palette(\"husl\", 8)  # Using a color palette with more colors\n",
    "\n",
    "# Creating the pie chart\n",
    "plt.figure(figsize=(8,8))\n",
    "plt.pie([lmi_used, bruteforce_used], labels=[\"LMI\", \"Brute Force\"], \n",
    "        colors=[colors[0], colors[3]],  # Selecting nice colors from the palette (Purple and Green)\n",
    "        autopct='%1.1f%%', startangle=140)\n",
    "\n",
    "plt.title('Index Usage')\n",
    "plt.show()"
   ],
   "metadata": {
    "collapsed": false,
    "ExecuteTime": {
     "end_time": "2024-01-04T18:39:33.991230600Z",
     "start_time": "2024-01-04T18:39:33.898987500Z"
    }
   },
   "id": "f9749e7058249528"
  },
  {
   "cell_type": "code",
   "execution_count": 44,
   "outputs": [
    {
     "data": {
      "text/plain": "<Figure size 1000x600 with 1 Axes>",
      "image/png": "[encoded data removed]"
     },
     "metadata": {},
     "output_type": "display_data"
    }
   ],
   "source": [
    "plt.figure(figsize=(10, 6))\n",
    "sns.set_theme(style=\"whitegrid\")\n",
    "\n",
    "# Plot each point with round, filled markers and ensure x-axis is from 0 to 1, y-axis starts at 0\n",
    "for key, value in chroma_results.items():\n",
    "    color = 'blue' if key == 'chroma_hnsw' else 'purple'\n",
    "    plt.scatter(value['avg_precision'], value['wall time'], label=key, color=color, s=100)  # s is the size of marker\n",
    "\n",
    "# Labeling the axes and title\n",
    "plt.xlabel('Average Precision')\n",
    "plt.ylabel('Seconds')\n",
    "plt.title('100 sequentially run queries')\n",
    "plt.xlim(0, 1)  # Ensuring x-axis covers 0 to 1 range\n",
    "plt.ylim(0, max(chroma_results['chroma_hnsw']['wall time'], chroma_results['chroma_lmi']['wall time']) + 10)  # Ensuring y-axis starts at 0\n",
    "plt.legend()\n",
    "\n",
    "plt.show()"
   ],
   "metadata": {
    "collapsed": false,
    "ExecuteTime": {
     "end_time": "2024-01-04T18:16:05.850509100Z",
     "start_time": "2024-01-04T18:16:05.618265600Z"
    }
   },
   "id": "d04adfbb8524fded"
  }
 ],
 "metadata": {
  "kernelspec": {
   "display_name": "Python 3",
   "language": "python",
   "name": "python3"
  },
  "language_info": {
   "codemirror_mode": {
    "name": "ipython",
    "version": 2
   },
   "file_extension": ".py",
   "mimetype": "text/x-python",
   "name": "python",
   "nbconvert_exporter": "python",
   "pygments_lexer": "ipython2",
   "version": "2.7.6"
  }
 },
 "nbformat": 4,
 "nbformat_minor": 5
}
