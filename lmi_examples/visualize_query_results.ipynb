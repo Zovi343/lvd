{
 "cells": [
  {
   "cell_type": "markdown",
   "source": [
    "# Visualize Query Results"
   ],
   "metadata": {
    "collapsed": false
   },
   "id": "fd065fc28f2ffa0f"
  },
  {
   "cell_type": "code",
   "execution_count": null,
   "outputs": [],
   "source": [
    "import matplotlib.pyplot as plt\n",
    "import json\n",
    "import re\n",
    "import numpy as np\n",
    "import seaborn as sns\n",
    "import pandas as pd\n",
    "from matplotlib.patches import Patch"
   ],
   "metadata": {
    "collapsed": false
   },
   "id": "5c3bf1a46a75f017"
  },
  {
   "cell_type": "code",
   "execution_count": null,
   "outputs": [],
   "source": [
    "results_dir = \"./results\"\n",
    "experiment_date = \"10_2_2024\"\n",
    "dataset_name = \"hnm\""
   ],
   "metadata": {
    "collapsed": false
   },
   "id": "f20b5d5976a6ad15"
  },
  {
   "cell_type": "markdown",
   "source": [
    "Define the color palette"
   ],
   "metadata": {
    "collapsed": false
   },
   "id": "978dac7c71d67657"
  },
  {
   "cell_type": "code",
   "execution_count": null,
   "outputs": [],
   "source": [
    "sns.set_theme(style=\"whitegrid\")\n",
    "palette = sns.color_palette(\"deep\")\n",
    "palette"
   ],
   "metadata": {
    "collapsed": false
   },
   "id": "1dacdb454f57f5ed"
  },
  {
   "cell_type": "markdown",
   "source": [
    "## Load Visualization Data"
   ],
   "metadata": {
    "collapsed": false
   },
   "id": "cb6c4587050155b1"
  },
  {
   "cell_type": "code",
   "execution_count": null,
   "outputs": [],
   "source": [
    "visualizations = {\n",
    "    \"cw_test\": None, \n",
    "    \"brutefore_test\": None,\n",
    "    \"ratios\": None,\n",
    "    \"data_buckets\": None,\n",
    "    \"filter_examples\": None,\n",
    "}\n",
    "\n",
    "\n",
    "\n",
    "for vis_name in visualizations.keys():\n",
    "    file_path = f\"{results_dir}/{experiment_date}/benchmark_{dataset_name}_{vis_name}.json\"\n",
    "    with open(file_path, 'r') as file:\n",
    "        visualizations[vis_name] = json.load(file)"
   ],
   "metadata": {
    "collapsed": false
   },
   "id": "d4a0a5680fcd8e22"
  },
  {
   "cell_type": "markdown",
   "source": [
    "### Visualize Filter Restrictiveness"
   ],
   "metadata": {
    "collapsed": false
   },
   "id": "b3a1444206c81729"
  },
  {
   "cell_type": "code",
   "execution_count": null,
   "outputs": [],
   "source": [
    "blue_color = palette[0]"
   ],
   "metadata": {
    "collapsed": false
   },
   "id": "eaadae4dd4074492"
  },
  {
   "cell_type": "code",
   "execution_count": null,
   "outputs": [],
   "source": [
    "def visualize_ratios(ratios):\n",
    "    # Define the intervals (bins)\n",
    "    bins = np.linspace(0.0, 0.5, num=11)  # 11 edges for 10 bins\n",
    "    \n",
    "    # Count the number of ratios in each bin\n",
    "    hist, _ = np.histogram(ratios, bins)\n",
    "    \n",
    "    # Plotting the bar chart\n",
    "    plt.figure(figsize=(10, 6))\n",
    "    plt.bar(bins[:-1], hist, width=0.05, align='edge', color=blue_color)\n",
    "    \n",
    "    # Setting the x-axis limits\n",
    "    plt.xlim(0, 0.5)\n",
    "    \n",
    "    # Adding labels and title\n",
    "    plt.xlabel('% Of Dataset Left')\n",
    "    plt.ylabel('% Of Queries')\n",
    "    plt.title(f'% Of Dataset Left After Applying Query Conditions For Dataset {dataset_name.capitalize()} With 10000 Queries')\n",
    "    \n",
    "    # Show the plot\n",
    "    plt.show()"
   ],
   "metadata": {
    "collapsed": false
   },
   "id": "77f2c12cd2ea9235"
  },
  {
   "cell_type": "code",
   "execution_count": null,
   "outputs": [],
   "source": [
    "visualize_ratios(visualizations[\"ratios\"])"
   ],
   "metadata": {
    "collapsed": false
   },
   "id": "a690ec69089fc9f0"
  },
  {
   "cell_type": "markdown",
   "source": [
    "### Visualize Bucket Distribution"
   ],
   "metadata": {
    "collapsed": false
   },
   "id": "11ed2ce83a71fd70"
  },
  {
   "cell_type": "code",
   "execution_count": null,
   "outputs": [],
   "source": [
    "def plot_bucket_items(data, highlight_ids=None):\n",
    "    \"\"\"\n",
    "    Plot the number of items in each bucket, with an optional overlay of highlighted items.\n",
    "    \n",
    "    Parameters:\n",
    "    data (DataFrame): The data frame containing the 'id', 'bucket_str', and 'cluster' columns.\n",
    "    highlight_ids (list, optional): List of ids to highlight in the visualization.\n",
    "    \"\"\"\n",
    "    # Set up the figure\n",
    "    plt.figure(figsize=(10, 6))\n",
    "    \n",
    "    # Count the total number of items in each bucket\n",
    "    bucket_counts = data.groupby('bucket_str').size()\n",
    "    buckets = bucket_counts.index.tolist()\n",
    "    counts = bucket_counts.tolist()\n",
    "\n",
    "    # Create the bar plot for total items\n",
    "    total_bars = plt.bar(buckets, counts, label='Total Items in Bucket', color=blue_color)\n",
    "\n",
    "    # If highlight_ids is provided, overlay highlighted bars\n",
    "    if highlight_ids is not None:\n",
    "        # Filter data to include only highlighted ids\n",
    "        highlighted_data = data[data['id'].isin(highlight_ids)]\n",
    "        highlighted_counts = highlighted_data.groupby('bucket_str').size()\n",
    "        highlighted_buckets = highlighted_counts.index.tolist()\n",
    "        highlighted_counts = highlighted_counts.tolist()\n",
    "\n",
    "        # Create overlay bar plot for highlighted items\n",
    "        highlighted_bars = plt.bar(highlighted_buckets, highlighted_counts, color=red_color, label='Items Satisfying Condition in Bucket')\n",
    "\n",
    "        # Create custom legend\n",
    "        plt.legend()\n",
    "\n",
    "    # Set the title based on whether highlight_ids is provided\n",
    "    title = 'Number of Items in Each Bucket For Query With Lowest Restrictiveness' if highlight_ids else 'Number of Items in Each Bucket'\n",
    "    plt.title(title)\n",
    "    plt.xlabel('Bucket')\n",
    "    plt.ylabel('Count')\n",
    "\n",
    "    # Annotate each bar with the count of elements\n",
    "    for bar in total_bars:\n",
    "        bar_height = int(bar.get_height())\n",
    "        if bar_height > 0:  # Only annotate bars with a height greater than zero\n",
    "            plt.annotate(f'{bar_height}', (bar.get_x() + bar.get_width() / 2., bar_height),\n",
    "                         ha='center', va='center', fontsize=10, color='black', xytext=(0, 5),\n",
    "                         textcoords='offset points')\n",
    "\n",
    "    # Annotate highlighted bars if present\n",
    "    if highlight_ids is not None:\n",
    "        for bar in highlighted_bars:\n",
    "            bar_height = int(bar.get_height())\n",
    "            if bar_height > 0:  # Only annotate bars with a height greater than zero\n",
    "                plt.annotate(f'{bar_height}', (bar.get_x() + bar.get_width() / 2., bar_height),\n",
    "                             ha='center', va='center', fontsize=10, color='black', xytext=(0, 5),\n",
    "                             textcoords='offset points')\n",
    "\n",
    "    plt.show()"
   ],
   "metadata": {
    "collapsed": false
   },
   "id": "5c7b2ccdaa30c8b7"
  },
  {
   "cell_type": "code",
   "execution_count": null,
   "outputs": [],
   "source": [
    "data_buckets = pd.DataFrame(visualizations[\"data_buckets\"], columns=['id', 'bucket', 'bucket_str'])\n",
    "plot_bucket_items(data_buckets)"
   ],
   "metadata": {
    "collapsed": false
   },
   "id": "ad0fba7a55770815"
  },
  {
   "cell_type": "markdown",
   "source": [
    "Visualize Query Filter"
   ],
   "metadata": {
    "collapsed": false
   },
   "id": "65abd0c61aecce3d"
  },
  {
   "cell_type": "code",
   "execution_count": null,
   "outputs": [],
   "source": [
    "plot_bucket_items(data_buckets, list(visualizations[\"filter_examples\"].values())[0])"
   ],
   "metadata": {
    "collapsed": false
   },
   "id": "f039f7ed7871bc3d"
  },
  {
   "cell_type": "markdown",
   "source": [
    "### Visualize Constraint Weight Parameter"
   ],
   "metadata": {
    "collapsed": false
   },
   "id": "f87825640aa99a95"
  },
  {
   "cell_type": "code",
   "execution_count": null,
   "outputs": [],
   "source": [
    "cw_test = visualizations[\"cw_test\"]\n",
    "print(cw_test)"
   ],
   "metadata": {
    "collapsed": false
   },
   "id": "ae251da7f7400cad"
  },
  {
   "cell_type": "code",
   "execution_count": null,
   "outputs": [],
   "source": [
    "keys = [re.sub(\"[^0-9.-]\", \"\", k) for k in cw_test.keys()]\n",
    "values = list(cw_test.values())\n",
    "\n",
    "# Create the bar plot using matplotlib\n",
    "plt.figure(figsize=(10, 6))  # Optional: Adjust the figure size as needed\n",
    "plt.bar(keys, values, color=blue_color)\n",
    "\n",
    "# Customize the plot\n",
    "plt.xlabel('Constraint Weight Parameter Value')\n",
    "plt.ylabel('Median Precision')\n",
    "plt.title(f'Dataset {dataset_name.capitalize()} With 1000 queries')\n",
    "\n",
    "# Display the plot\n",
    "plt.show()"
   ],
   "metadata": {
    "collapsed": false
   },
   "id": "c3e8f79931bfb7ab"
  },
  {
   "cell_type": "markdown",
   "source": [
    "### Visualize Brute Force Parameter"
   ],
   "metadata": {
    "collapsed": false
   },
   "id": "205ead277eeb9522"
  },
  {
   "cell_type": "code",
   "execution_count": null,
   "outputs": [],
   "source": [
    "bruteforce_test = visualizations[\"brutefore_test\"]\n",
    "print(bruteforce_test)"
   ],
   "metadata": {
    "collapsed": false
   },
   "id": "b33ac8b684916c60"
  },
  {
   "cell_type": "code",
   "execution_count": null,
   "outputs": [],
   "source": [
    "green_color = palette[2]\n",
    "red_color = palette[3]\n",
    "\n",
    "\n",
    "plt.figure(figsize=(8, 6))\n",
    "plt.plot(bruteforce_test['0'][0], bruteforce_test['0'][1], color=green_color, marker='o', linestyle='-', label='LMI')\n",
    "plt.plot(bruteforce_test['1'][0], bruteforce_test['1'][1], color=red_color, marker='o', linestyle='-', label='Bruteforce')\n",
    "\n",
    "plt.xlabel('% of Dataset Left')\n",
    "plt.ylabel('Median Wall Time In Seconds')\n",
    "plt.title(f'Dataset {dataset_name.capitalize()} With 1000 queries')\n",
    "plt.legend()\n",
    "plt.show()"
   ],
   "metadata": {
    "collapsed": false
   },
   "id": "af09dc6fa870066b"
  }
 ],
 "metadata": {
  "kernelspec": {
   "display_name": "Python 3",
   "language": "python",
   "name": "python3"
  },
  "language_info": {
   "codemirror_mode": {
    "name": "ipython",
    "version": 2
   },
   "file_extension": ".py",
   "mimetype": "text/x-python",
   "name": "python",
   "nbconvert_exporter": "python",
   "pygments_lexer": "ipython2",
   "version": "2.7.6"
  }
 },
 "nbformat": 4,
 "nbformat_minor": 5
}
