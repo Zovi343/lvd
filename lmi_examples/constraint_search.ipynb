{
 "cells": [
  {
   "cell_type": "markdown",
   "source": [
    "**Author:** J. Žovák, `482857@mail.muni.cz`"
   ],
   "metadata": {
    "collapsed": false
   },
   "id": "9802b3c183b25677"
  },
  {
   "cell_type": "code",
   "execution_count": null,
   "id": "initial_id",
   "metadata": {
    "collapsed": true
   },
   "outputs": [],
   "source": [
    "import numpy as np\n",
    "from itertools import product"
   ]
  },
  {
   "cell_type": "code",
   "execution_count": null,
   "outputs": [],
   "source": [
    "def precompute_bucket_ids(n_categories):\n",
    "    # generate all possible combinations of categories for each level\n",
    "    all_combinations = list(product(*[range(n) for n in n_categories]))\n",
    "    bucket_ids = np.array(all_combinations, dtype=np.int32)\n",
    "    return bucket_ids\n",
    "\n",
    "n_categories = [2, 2, 2]  \n",
    "bucket_ids = precompute_bucket_ids(n_categories)\n",
    "bucket_ids"
   ],
   "metadata": {
    "collapsed": false
   },
   "id": "bb5dbc3fd27a06dd"
  },
  {
   "cell_type": "code",
   "execution_count": null,
   "outputs": [],
   "source": [
    "def compute_ratios_for_attribute_filters(data_prediction, attribute_filters, n_categories):\n",
    "    all_bucket_ids = precompute_bucket_ids(n_categories)\n",
    "    \n",
    "    filters_ratios_list = []\n",
    "\n",
    "    shifted_attribute_filters = attribute_filters - 1\n",
    "\n",
    "    for filter_array in shifted_attribute_filters:\n",
    "        filter_data = data_prediction[filter_array.flatten()]\n",
    "\n",
    "        matches = np.all(filter_data[:, None] == all_bucket_ids, axis=2)\n",
    "        \n",
    "        counts = matches.sum(axis=0)\n",
    "\n",
    "        total_elements = len(filter_data)\n",
    "        ratios = counts / total_elements\n",
    "\n",
    "        filter_ratios_dict = {tuple(bucket_id): ratio for bucket_id, ratio in zip(all_bucket_ids, ratios)}\n",
    "\n",
    "        filters_ratios_list.append(filter_ratios_dict)\n",
    "\n",
    "    return filters_ratios_list\n",
    "\n",
    "data_prediction = np.array([[0,0,0], [0,0,1], [0,1,1], [1,1,1]])\n",
    "attribute_filter = np.array([[1, 2, 3, 4]])\n",
    "\n",
    "filters_ratios = compute_ratios_for_attribute_filters(data_prediction, attribute_filter, n_categories)\n",
    "filters_ratios"
   ],
   "metadata": {
    "collapsed": false
   },
   "id": "9b09fd155b1b230a"
  },
  {
   "cell_type": "code",
   "execution_count": null,
   "outputs": [],
   "source": [
    "def combine_probabilities(filters_ratios):\n",
    "    combined_filters_ratios = []\n",
    "\n",
    "    for filter_ratio in filters_ratios:\n",
    "        combined_ratio = filter_ratio.copy()\n",
    "        temp_dict = {}  \n",
    "    \n",
    "        for bucket_tuple, probability in filter_ratio.items():\n",
    "            for idx in range(len(bucket_tuple)):\n",
    "                if bucket_tuple[idx] != -1: \n",
    "                    modified_tuple = bucket_tuple[:idx] + (-1,) * (len(bucket_tuple) - idx)\n",
    "                    temp_dict[modified_tuple] = temp_dict.get(modified_tuple, 0) + probability\n",
    "\n",
    "        for new_tuple, new_probability in temp_dict.items():\n",
    "            combined_ratio[new_tuple] = new_probability\n",
    "\n",
    "        combined_filters_ratios.append(combined_ratio)\n",
    "        \n",
    "    return combined_filters_ratios\n"
   ],
   "metadata": {
    "collapsed": false
   },
   "id": "5194bf236ee753f7"
  },
  {
   "cell_type": "code",
   "execution_count": null,
   "outputs": [],
   "source": [
    "combined_filter_ratios = combine_probabilities(filters_ratios)\n",
    "combined_filter_ratios"
   ],
   "metadata": {
    "collapsed": false
   },
   "id": "f479619f76b755c0"
  },
  {
   "cell_type": "code",
   "execution_count": null,
   "outputs": [],
   "source": [
    "import matplotlib.pyplot as plt\n",
    "import networkx as nx\n",
    "\n",
    "def visualize_tree_dict_top_to_bottom(tree_dict):\n",
    "    G = nx.DiGraph()\n",
    "\n",
    "    for node, weight in tree_dict.items():\n",
    "        for parent, _ in tree_dict.items():\n",
    "            if parent.count(-1) == node.count(-1) + 1:\n",
    "                if all(p == n or p == -1 for p, n in zip(parent, node)):\n",
    "                    G.add_edge(parent, node, weight=weight)\n",
    "\n",
    "    # arrange nodes from top to bottom\n",
    "    pos = nx.nx_agraph.graphviz_layout(G, prog='dot')\n",
    "    labels = nx.get_edge_attributes(G, 'weight')\n",
    "    nx.draw(G, pos, with_labels=True, node_size=700, node_color=\"lightblue\")\n",
    "    nx.draw_networkx_edge_labels(G, pos, edge_labels=labels)\n",
    "\n",
    "    plt.show()\n",
    "\n",
    "visualize_tree_dict_top_to_bottom(combined_filter_ratios[0])"
   ],
   "metadata": {
    "collapsed": false
   },
   "id": "885fe3d337bf3ce5"
  },
  {
   "cell_type": "code",
   "execution_count": null,
   "outputs": [],
   "source": [],
   "metadata": {
    "collapsed": false
   },
   "id": "6d48543b2854dfce"
  }
 ],
 "metadata": {
  "kernelspec": {
   "display_name": "Python 3",
   "language": "python",
   "name": "python3"
  },
  "language_info": {
   "codemirror_mode": {
    "name": "ipython",
    "version": 2
   },
   "file_extension": ".py",
   "mimetype": "text/x-python",
   "name": "python",
   "nbconvert_exporter": "python",
   "pygments_lexer": "ipython2",
   "version": "2.7.6"
  }
 },
 "nbformat": 4,
 "nbformat_minor": 5
}
