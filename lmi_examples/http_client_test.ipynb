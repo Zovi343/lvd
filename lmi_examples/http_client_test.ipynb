{
 "cells": [
  {
   "cell_type": "markdown",
   "source": [
    "**Author:** J. Žovák, `482857@mail.muni.cz`\n",
    "Note: inspired by lvd/examples/basic_functionality/client_auth.ipynb"
   ],
   "metadata": {
    "collapsed": false
   },
   "id": "1907000df05b293a"
  },
  {
   "cell_type": "code",
   "execution_count": null,
   "id": "initial_id",
   "metadata": {
    "collapsed": true
   },
   "outputs": [],
   "source": [
    "import chromadb\n",
    "from chromadb import Settings\n",
    "import pandas as pd\n",
    "\n",
    "client = chromadb.HttpClient(host=\"localhost\", port=5000)\n",
    "client.heartbeat()  \n",
    "\n",
    "client.get_version()\n",
    "\n",
    "client.list_collections() \n"
   ]
  },
  {
   "cell_type": "code",
   "execution_count": null,
   "outputs": [],
   "source": [
    "n_categories = [4]\n",
    "\n",
    "index_configuraiton = {\n",
    "    \"lmi:epochs\": \"[200]\",\n",
    "    \"lmi:model_types\": \"['MLP']\",\n",
    "    \"lmi:lrs\": \"[0.01]\",\n",
    "    \"lmi:n_categories\": f\"{str(n_categories)}\",\n",
    "    \"lmi:kmeans\": \"{'verbose': False, 'seed': 2023, 'nredo': 10}\",\n",
    "}\n",
    "\n",
    "collections = client.list_collections()\n",
    "if collections:\n",
    "    client.delete_collection(collections[0].name)\n",
    "    \n",
    "collection_name = \"synthetic_collection_2\"\n",
    "collection = client.create_collection(\n",
    "    name=collection_name,\n",
    "    metadata=index_configuraiton\n",
    ")"
   ],
   "metadata": {
    "collapsed": false
   },
   "id": "19e6cad7baba42a3"
  },
  {
   "cell_type": "code",
   "execution_count": null,
   "outputs": [],
   "source": [
    "csv_file_path = 'data/synthetic_clusters_colored.csv'\n",
    "data = pd.read_csv(csv_file_path)"
   ],
   "metadata": {
    "collapsed": false
   },
   "id": "2913f478ded90e00"
  },
  {
   "cell_type": "code",
   "execution_count": null,
   "outputs": [],
   "source": [
    "# Use batch upload just to test it out\n",
    "batch_size = 25\n",
    "for i in range(0, len(data), batch_size):\n",
    "    collection.add(\n",
    "        embeddings=data[['x', 'y']].iloc[i: i + batch_size].values.tolist(),\n",
    "        metadatas=[{\"cluster\": cluster} for cluster in data['cluster'].iloc[i: i + batch_size]],\n",
    "        ids=data['id'].iloc[i: i + batch_size].values.tolist(),\n",
    "    )\n",
    "\n",
    "bucket_assignment = collection.build_index()"
   ],
   "metadata": {
    "collapsed": false
   },
   "id": "bbcd9b3418accb05"
  },
  {
   "cell_type": "code",
   "execution_count": null,
   "outputs": [],
   "source": [
    "query_point = data[data['cluster'] == \"purple\"][['x', 'y']].iloc[0]\n",
    "\n",
    "results = collection.query(\n",
    "    query_embeddings=list(query_point),\n",
    "    include=[\"metadatas\", 'embeddings', 'distances'],\n",
    "    where={\"cluster\": \"red\"},\n",
    "    n_results=10,\n",
    "    n_buckets=1,\n",
    "    bruteforce_threshold=0.0,\n",
    "    constraint_weight=0,\n",
    "    search_until_bucket_not_empty=True, \n",
    ")"
   ],
   "metadata": {
    "collapsed": false
   },
   "id": "4a6b47ddac54d533"
  },
  {
   "cell_type": "code",
   "execution_count": null,
   "outputs": [],
   "source": [
    "results['ids']"
   ],
   "metadata": {
    "collapsed": false
   },
   "id": "a67e8de6236c5544"
  }
 ],
 "metadata": {
  "kernelspec": {
   "display_name": "Python 3",
   "language": "python",
   "name": "python3"
  },
  "language_info": {
   "codemirror_mode": {
    "name": "ipython",
    "version": 2
   },
   "file_extension": ".py",
   "mimetype": "text/x-python",
   "name": "python",
   "nbconvert_exporter": "python",
   "pygments_lexer": "ipython2",
   "version": "2.7.6"
  }
 },
 "nbformat": 4,
 "nbformat_minor": 5
}
