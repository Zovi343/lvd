{
 "cells": [
  {
   "cell_type": "code",
   "execution_count": null,
   "outputs": [],
   "source": [
    "import matplotlib.pyplot as plt\n",
    "from sklearn.datasets import make_blobs\n",
    "import pandas as pd\n",
    "import numpy as np\n",
    "from chromadb.li_index.search.li.clustering import ClusteringAlgorithm, algorithms\n",
    "from typing import Any, Dict, List, Optional, Tuple\n",
    "import numpy.typing as npt\n",
    "import time"
   ],
   "metadata": {
    "collapsed": false
   },
   "id": "1402618e53ef0a90"
  },
  {
   "cell_type": "markdown",
   "source": [
    "## Create Synthetic Clusters"
   ],
   "metadata": {
    "collapsed": false
   },
   "id": "cc803ff3ae6b3d50"
  },
  {
   "cell_type": "code",
   "execution_count": null,
   "outputs": [],
   "source": [
    "# Number of clusters and their colors\n",
    "n_clusters = 4\n",
    "colors = ['red', 'green', 'blue', 'purple']\n",
    "\n",
    "# Cluster centers\n",
    "centers = [[0, 70], [20, 50], [50, 20], [70, 0]]\n",
    "\n",
    "# Generate a synthetic dataset with minimal overlap between clusters\n",
    "X, y = make_blobs(n_samples=100, centers=centers, n_features=2, cluster_std=2, random_state=2023)\n",
    "\n",
    "# Create a DataFrame to hold the dataset\n",
    "df = pd.DataFrame(X, columns=['x', 'y'])\n",
    "\n",
    "# Mapping from cluster label to color and replacing cluster labels with colors in the DataFrame\n",
    "cluster_color_map = {i: colors[i] for i in range(n_clusters)}\n",
    "df['cluster'] = [cluster_color_map[label] for label in y]\n",
    "\n",
    "df['id'] = [f\"id{i+1}\" for i in range(df.shape[0])]"
   ],
   "metadata": {
    "collapsed": false
   },
   "id": "72f9226ff6838bf2"
  },
  {
   "cell_type": "markdown",
   "source": [
    "## Visualize Created Clusters"
   ],
   "metadata": {
    "collapsed": false
   },
   "id": "a0856872cb591d49"
  },
  {
   "cell_type": "code",
   "execution_count": null,
   "outputs": [],
   "source": [
    "# Visualization of the clusters with distinct colors\n",
    "plt.figure(figsize=(8, 6))\n",
    "for color in colors:\n",
    "    # Select data points belonging to each cluster/color\n",
    "    cluster_data = df[df['cluster'] == color]\n",
    "    plt.scatter(cluster_data['x'], cluster_data['y'], color=color, label=f'{color.capitalize()} Cluster')\n",
    "\n",
    "plt.title('Visualization of Synthetic Clusters with Minimal Overlap')\n",
    "plt.xlabel('x')\n",
    "plt.ylabel('y')\n",
    "plt.legend()\n",
    "plt.show()"
   ],
   "metadata": {
    "collapsed": false
   },
   "id": "fdbf5ef79d1174a3"
  },
  {
   "cell_type": "markdown",
   "source": [
    "### Add document column to the DataFrame"
   ],
   "metadata": {
    "collapsed": false
   },
   "id": "32b410385893ee36"
  },
  {
   "cell_type": "code",
   "execution_count": null,
   "outputs": [],
   "source": [
    "def generate_sentence_for_color(color):\n",
    "    import random\n",
    "    \n",
    "    nature_keywords = [\"forest\", \"river\", \"mountain\", \"nature's beauty\", \"wildlife\"]\n",
    "    career_path_keywords = [\"career development\", \"professional growth\", \"job opportunities\", \"work-life balance\", \"industry trends\"]\n",
    "    free_time_keywords = [\"hiking\", \"reading\", \"traveling\", \"gardening\", \"cooking\"]\n",
    "    computer_science_keywords = [\"programming\", \"machine learning\", \"cybersecurity\", \"software development\", \"data analysis\"]\n",
    "    \n",
    "    if color == 'red':\n",
    "        keyword = random.choice(nature_keywords)\n",
    "        sentences = [f\"The {keyword} is breathtaking and offers a tranquil retreat from the hustle of daily life.\",\n",
    "                     f\"Walking through the {keyword}, one can't help but feel a deep connection to the earth.\"]\n",
    "    elif color == 'blue':\n",
    "        keyword = random.choice(career_path_keywords)\n",
    "        sentences = [f\"Advancing in your {keyword} requires dedication and a willingness to embrace new challenges.\",\n",
    "                     f\"The landscape of {keyword} is constantly evolving, demanding adaptability and continuous learning.\"]\n",
    "    elif color == 'green':\n",
    "        keyword = random.choice(free_time_keywords)\n",
    "        sentences = [f\"Spending time {keyword} is a wonderful way to recharge and enjoy life's simple pleasures.\",\n",
    "                     f\"Whether it's {keyword}, engaging in hobbies is essential for a balanced lifestyle.\"]\n",
    "    elif color == 'purple':\n",
    "        keyword = random.choice(computer_science_keywords)\n",
    "        sentences = [f\"The field of {keyword} is at the forefront of technological innovation and offers endless opportunities for exploration.\",\n",
    "                     f\"Understanding {keyword} is crucial for solving complex problems and advancing our digital world.\"]\n",
    "    else:\n",
    "        return \"Color not recognized.\"\n",
    "    \n",
    "    return random.choice(sentences) "
   ],
   "metadata": {
    "collapsed": false
   },
   "id": "40af8a90bec7fb9e"
  },
  {
   "cell_type": "code",
   "execution_count": null,
   "outputs": [],
   "source": [
    "df['document'] = df['cluster'].apply(generate_sentence_for_color)"
   ],
   "metadata": {
    "collapsed": false
   },
   "id": "c890f82f96a975f8"
  },
  {
   "cell_type": "code",
   "execution_count": null,
   "outputs": [],
   "source": [
    "df.head()"
   ],
   "metadata": {
    "collapsed": false
   },
   "id": "28cadd4da590ff7"
  },
  {
   "cell_type": "markdown",
   "source": [
    "### Save the DataFrame for LMI test"
   ],
   "metadata": {
    "collapsed": false
   },
   "id": "4bfdb95ad60e6e9b"
  },
  {
   "cell_type": "code",
   "execution_count": null,
   "outputs": [],
   "source": [
    "# Save the DataFrame to CSV\n",
    "csv_file_path = './data/synthetic_clusters_colored.csv'\n",
    "df.to_csv(csv_file_path, index=False)"
   ],
   "metadata": {
    "collapsed": false
   },
   "id": "8b48a2e02cf06ffc"
  },
  {
   "cell_type": "markdown",
   "source": [
    "## Use Faiss Kmeans to cluster the data\n",
    "We do this to visualize the ground truth that is used for training MLP in LMI"
   ],
   "metadata": {
    "collapsed": false
   },
   "id": "389a77b0a978509f"
  },
  {
   "cell_type": "code",
   "execution_count": null,
   "outputs": [],
   "source": [
    "# Method from LearnedIndexBuilder used to cluster the data\n",
    "def cluster(\n",
    "    data: pd.DataFrame,\n",
    "    clustering_algorithm: ClusteringAlgorithm,\n",
    "    n_clusters: int,\n",
    ") -> Tuple[Optional[Any], npt.NDArray[np.int32], float]:\n",
    "    s = time.time()\n",
    "\n",
    "    if data.shape[0] < 2:\n",
    "        return None, np.array([0] * data.shape[0]), time.time() - s\n",
    "\n",
    "    if data.shape[0] < n_clusters:\n",
    "        n_clusters = data.shape[0] // 5\n",
    "        if n_clusters < 2:\n",
    "            n_clusters = 2\n",
    "\n",
    "    clustering_object, labels = clustering_algorithm(\n",
    "        np.array(data),\n",
    "        n_clusters,\n",
    "        {\n",
    "            'seed': 2023,\n",
    "            'nredo': 10\n",
    "        },\n",
    "    )\n",
    "\n",
    "    return clustering_object, labels, time.time() - s"
   ],
   "metadata": {
    "collapsed": false
   },
   "id": "17effbe6fbca5ae0"
  },
  {
   "cell_type": "code",
   "execution_count": null,
   "outputs": [],
   "source": [
    "kmeans_labels = cluster(df[['x', 'y']], algorithms[\"faiss_kmeans\"], 4)[1]\n",
    "\n",
    "df['kmeans_cluster'] = kmeans_labels\n",
    "\n",
    "# Mapping from KMeans label to color (make sure these are distinct from the original colors)\n",
    "kmeans_colors = ['cyan', 'magenta', 'orange', 'black']\n",
    "\n",
    "kmeans_color_map = {i: kmeans_colors[i] for i in range(n_clusters)}\n",
    "\n",
    "# Visualization of the clusters with distinct colors\n",
    "plt.figure(figsize=(8, 6))\n",
    "\n",
    "# Loop through each data point to plot\n",
    "for idx, row in df.iterrows():\n",
    "    true_cluster_color = row['cluster']\n",
    "    kmeans_cluster_color = kmeans_color_map[row['kmeans_cluster']]\n",
    "    plt.scatter(row['x'], row['y'], color=kmeans_cluster_color, edgecolor=true_cluster_color, label=f'True: {row[\"cluster\"]}, KMeans: {row[\"kmeans_cluster\"]}')\n",
    "\n",
    "# To avoid duplicate labels in the legend, create custom legend\n",
    "from matplotlib.lines import Line2D\n",
    "legend_elements = [Line2D([0], [0], marker='o', color='w', label=f'True {color.capitalize()} Cluster', markerfacecolor=color, markersize=10) for color in colors] + \\\n",
    "                  [Line2D([0], [0], marker='o', color='w', label=f'KMeans Cluster {i}', markerfacecolor=kmeans_colors[i], markersize=10) for i in range(n_clusters)]\n",
    "\n",
    "plt.title('Comparison of Real Clusters (Edge Color) and KMeans Clusters (Fill Color)')\n",
    "plt.xlabel('x')\n",
    "plt.ylabel('y')\n",
    "plt.legend(handles=legend_elements)\n",
    "plt.show()"
   ],
   "metadata": {
    "collapsed": false
   },
   "id": "6c6f708893887dc2"
  },
  {
   "cell_type": "code",
   "execution_count": null,
   "outputs": [],
   "source": [],
   "metadata": {
    "collapsed": false
   },
   "id": "c7159999efb7879e"
  }
 ],
 "metadata": {
  "kernelspec": {
   "display_name": "Python 3",
   "language": "python",
   "name": "python3"
  },
  "language_info": {
   "codemirror_mode": {
    "name": "ipython",
    "version": 2
   },
   "file_extension": ".py",
   "mimetype": "text/x-python",
   "name": "python",
   "nbconvert_exporter": "python",
   "pygments_lexer": "ipython2",
   "version": "2.7.6"
  }
 },
 "nbformat": 4,
 "nbformat_minor": 5
}
