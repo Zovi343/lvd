{
 "cells": [
  {
   "cell_type": "code",
   "execution_count": 1,
   "id": "initial_id",
   "metadata": {
    "collapsed": true,
    "ExecuteTime": {
     "end_time": "2023-12-16T19:22:25.068017600Z",
     "start_time": "2023-12-16T19:22:24.683953100Z"
    }
   },
   "outputs": [],
   "source": [
    "import chromadb\n",
    "import pandas as pd\n",
    "from chromadb.config import Settings\n",
    "import matplotlib.pyplot as plt\n",
    "import seaborn as sns"
   ]
  },
  {
   "cell_type": "code",
   "execution_count": 2,
   "outputs": [],
   "source": [
    "csv_file_path = 'data/synthetic_clusters_colored.csv'\n",
    "data = pd.read_csv(csv_file_path)"
   ],
   "metadata": {
    "collapsed": false,
    "ExecuteTime": {
     "end_time": "2023-12-16T19:22:25.082220400Z",
     "start_time": "2023-12-16T19:22:25.071573400Z"
    }
   },
   "id": "253c2816f88051b9"
  },
  {
   "cell_type": "code",
   "execution_count": 3,
   "outputs": [
    {
     "data": {
      "text/plain": "[]"
     },
     "execution_count": 3,
     "metadata": {},
     "output_type": "execute_result"
    }
   ],
   "source": [
    "client = chromadb.Client()\n",
    "\n",
    "client.list_collections()"
   ],
   "metadata": {
    "collapsed": false,
    "ExecuteTime": {
     "end_time": "2023-12-16T19:22:25.330291200Z",
     "start_time": "2023-12-16T19:22:25.082220400Z"
    }
   },
   "id": "c4fb7f4c17ab0c40"
  },
  {
   "cell_type": "code",
   "execution_count": 4,
   "outputs": [],
   "source": [
    "index_configuraiton = {\n",
    "    \"lmi:epochs\": \"[200]\",\n",
    "    \"lmi:model_types\": \"['MLP']\",\n",
    "    \"lmi:lrs\": \"[0.01]\",\n",
    "    \"lmi:n_categories\": \"[4]\"\n",
    "}\n",
    "\n",
    "collection_name = \"synthetic_collection\"\n",
    "collection = client.create_collection(\n",
    "    name=collection_name,\n",
    "    metadata=index_configuraiton\n",
    ")"
   ],
   "metadata": {
    "collapsed": false,
    "ExecuteTime": {
     "end_time": "2023-12-16T19:22:27.685407300Z",
     "start_time": "2023-12-16T19:22:25.330291200Z"
    }
   },
   "id": "f2c3fba64a0da152"
  },
  {
   "cell_type": "code",
   "execution_count": 5,
   "outputs": [
    {
     "name": "stdout",
     "output_type": "stream",
     "text": [
      "\n",
      "            LMI Build Config:\n",
      "            {\n",
      "                clustering_algorithms: [<function cluster at 0x0000028150545790>],\n",
      "                epochs: [200],\n",
      "                model_types: ['MLP'],\n",
      "                learning_rate: [0.01],\n",
      "                n_categories: [4],\n",
      "            }\n",
      "             \n",
      "LMI built with n_buckets_in_index: 4\n",
      "Time taken to build: 0.765509843826294; Time taken to cluster: 0.010366439819335938\n"
     ]
    }
   ],
   "source": [
    "# Assuming 'embeddings' are the first three columns\n",
    "# 'status' is the fourth column, 'document' is the fifth column, and 'id' is the sixth column\n",
    "collection.add(\n",
    "    embeddings=data[['x', 'y']].values.tolist(),\n",
    "    metadatas=[{\"cluster\": cluster} for cluster in data['cluster']],\n",
    "    ids=data['id'].values.tolist(),\n",
    ")\n",
    "\n",
    "bucket_assignment = collection.build_index()"
   ],
   "metadata": {
    "collapsed": false,
    "ExecuteTime": {
     "end_time": "2023-12-16T19:22:28.502654Z",
     "start_time": "2023-12-16T19:22:27.688423400Z"
    }
   },
   "id": "d3793c4cfa6eabfd"
  },
  {
   "cell_type": "markdown",
   "source": [
    "### Visualize buckets"
   ],
   "metadata": {
    "collapsed": false
   },
   "id": "9f0e38d9da32d82e"
  },
  {
   "cell_type": "code",
   "execution_count": 6,
   "outputs": [
    {
     "name": "stderr",
     "output_type": "stream",
     "text": [
      "[2023-12-16 20:22:28,547][INFO ][matplotlib.category] Using categorical units to plot a list of strings that are all parsable as floats or dates. If these strings should be plotted as numbers, cast to the appropriate data type before plotting.\n",
      "[2023-12-16 20:22:28,548][INFO ][matplotlib.category] Using categorical units to plot a list of strings that are all parsable as floats or dates. If these strings should be plotted as numbers, cast to the appropriate data type before plotting.\n"
     ]
    },
    {
     "data": {
      "text/plain": "<Figure size 1000x600 with 1 Axes>",
      "image/png": "[encoded data removed]"
     },
     "metadata": {},
     "output_type": "display_data"
    }
   ],
   "source": [
    "# Convert bucket assignments to a label\n",
    "bucket_labels = [''.join(map(str, bucket)) for bucket in bucket_assignment]\n",
    "data['bucket'] = bucket_labels\n",
    "\n",
    "# Aggregate data: Count the number of points from each cluster in each bucket\n",
    "bucket_cluster_counts = data.groupby(['bucket', 'cluster']).size().unstack(fill_value=0)\n",
    "\n",
    "# Prepare the data for plotting\n",
    "plot_data = bucket_cluster_counts.reset_index().melt(id_vars='bucket', var_name='cluster', value_name='count')\n",
    "\n",
    "# Create the bar plot\n",
    "plt.figure(figsize=(10, 6))\n",
    "sns.barplot(data=plot_data, x='bucket', y='count', hue='cluster', palette='bright')\n",
    "plt.title('Number of Items from Each Cluster in Each Bucket')\n",
    "plt.xlabel('Bucket')\n",
    "plt.ylabel('Count')\n",
    "plt.show()"
   ],
   "metadata": {
    "collapsed": false,
    "ExecuteTime": {
     "end_time": "2023-12-16T19:22:28.793448300Z",
     "start_time": "2023-12-16T19:22:28.509228500Z"
    }
   },
   "id": "4ef64a67289f1726"
  },
  {
   "cell_type": "markdown",
   "source": [],
   "metadata": {
    "collapsed": false
   },
   "id": "1a22580723c14580"
  },
  {
   "cell_type": "code",
   "execution_count": 6,
   "outputs": [],
   "source": [],
   "metadata": {
    "collapsed": false,
    "ExecuteTime": {
     "end_time": "2023-12-16T19:22:28.821096700Z",
     "start_time": "2023-12-16T19:22:28.793448300Z"
    }
   },
   "id": "f403f8d26393fedc"
  },
  {
   "cell_type": "code",
   "execution_count": 7,
   "outputs": [
    {
     "name": "stderr",
     "output_type": "stream",
     "text": [
      "[2023-12-16 20:22:28,811][INFO ][chromadb.lmi.lmi.LMI] Precompute bucket order time: 0.0\n",
      "100%|██████████| 4/4 [00:00<00:00, 1952.66it/s]\n",
      "100%|██████████| 4/4 [00:00<00:00, 3888.11it/s]\n",
      "100%|██████████| 4/4 [00:00<?, ?it/s]\n",
      "100%|██████████| 4/4 [00:00<?, ?it/s]\n"
     ]
    }
   ],
   "source": [
    "cluster_color = \"purple\"\n",
    "filter_color = \"red\"\n",
    "results = collection.query(\n",
    "    query_embeddings=list(data[data['cluster'] == 'purple'][['x', 'y']].iloc[0]),\n",
    "    include=[\"metadatas\", 'embeddings', 'distances'],\n",
    "    where={\"cluster\": filter_color},\n",
    "    n_results=10,\n",
    "    n_buckets=4,\n",
    "    use_threshold=False, # TODO: this causes problems, hotfix applied for now\n",
    ")"
   ],
   "metadata": {
    "collapsed": false,
    "ExecuteTime": {
     "end_time": "2023-12-16T19:22:28.839196800Z",
     "start_time": "2023-12-16T19:22:28.808713100Z"
    }
   },
   "id": "9bc3a2a68fb7660e"
  },
  {
   "cell_type": "code",
   "execution_count": 8,
   "outputs": [
    {
     "name": "stdout",
     "output_type": "stream",
     "text": [
      "[['id99', 'id99', 'id99', 'id99', 'id99', 'id99', 'id99', 'id99', 'id99', 'id99']]\n",
      "[[0.0033500960156713777, 0.0033500960156713777, 0.0033500960156713777, 0.0033500960156713777, 0.0033500960156713777, 0.0033500960156713777, 0.0033500960156713777, 0.0033500960156713777, 0.0033500960156713777, 0.0033500960156713777]]\n",
      "[[{'cluster': 'purple'}, {'cluster': 'purple'}, {'cluster': 'purple'}, {'cluster': 'purple'}, {'cluster': 'purple'}, {'cluster': 'purple'}, {'cluster': 'purple'}, {'cluster': 'purple'}, {'cluster': 'purple'}, {'cluster': 'purple'}]]\n"
     ]
    }
   ],
   "source": [
    "print(results['ids'])\n",
    "print(results['distances'])\n",
    "print(results['metadatas'])"
   ],
   "metadata": {
    "collapsed": false,
    "ExecuteTime": {
     "end_time": "2023-12-16T19:22:28.869762100Z",
     "start_time": "2023-12-16T19:22:28.840419Z"
    }
   },
   "id": "d3c7ff5f37c2598e"
  },
  {
   "cell_type": "code",
   "execution_count": 9,
   "outputs": [],
   "source": [
    "bucket_order = results['bucket_order'][0]\n",
    "cluster_specific_counts = bucket_cluster_counts[cluster_color]\n",
    "order_labels = [''.join(map(str, bucket)) for bucket in bucket_order]\n",
    "\n",
    "ordered_counts = cluster_specific_counts.reindex(order_labels, fill_value=0).reset_index()\n",
    "ordered_counts.columns = ['bucket', 'count']"
   ],
   "metadata": {
    "collapsed": false,
    "ExecuteTime": {
     "end_time": "2023-12-16T19:22:28.869762100Z",
     "start_time": "2023-12-16T19:22:28.852817200Z"
    }
   },
   "id": "79f4dd07667e833f"
  },
  {
   "cell_type": "code",
   "execution_count": 10,
   "outputs": [
    {
     "name": "stderr",
     "output_type": "stream",
     "text": [
      "[2023-12-16 20:22:28,888][INFO ][matplotlib.category] Using categorical units to plot a list of strings that are all parsable as floats or dates. If these strings should be plotted as numbers, cast to the appropriate data type before plotting.\n",
      "[2023-12-16 20:22:28,888][INFO ][matplotlib.category] Using categorical units to plot a list of strings that are all parsable as floats or dates. If these strings should be plotted as numbers, cast to the appropriate data type before plotting.\n"
     ]
    },
    {
     "data": {
      "text/plain": "<Figure size 1000x600 with 1 Axes>",
      "image/png": "[encoded data removed]"
     },
     "metadata": {},
     "output_type": "display_data"
    }
   ],
   "source": [
    "plt.figure(figsize=(10, 6))\n",
    "sns.barplot(data=ordered_counts, x='bucket', y='count', color=cluster_color)\n",
    "plt.title(f'Number of Items from {cluster_color.capitalize()} Cluster in Each Bucket')\n",
    "plt.xlabel('Bucket')\n",
    "plt.ylabel('Count')\n",
    "plt.show()"
   ],
   "metadata": {
    "collapsed": false,
    "ExecuteTime": {
     "end_time": "2023-12-16T19:22:29.022711Z",
     "start_time": "2023-12-16T19:22:28.888980200Z"
    }
   },
   "id": "5dd627ed6e1375bb"
  },
  {
   "cell_type": "markdown",
   "source": [],
   "metadata": {
    "collapsed": false
   },
   "id": "ae6ca813547a90c2"
  }
 ],
 "metadata": {
  "kernelspec": {
   "display_name": "Python 3",
   "language": "python",
   "name": "python3"
  },
  "language_info": {
   "codemirror_mode": {
    "name": "ipython",
    "version": 2
   },
   "file_extension": ".py",
   "mimetype": "text/x-python",
   "name": "python",
   "nbconvert_exporter": "python",
   "pygments_lexer": "ipython2",
   "version": "2.7.6"
  }
 },
 "nbformat": 4,
 "nbformat_minor": 5
}
