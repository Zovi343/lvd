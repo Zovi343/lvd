{
 "cells": [
  {
   "cell_type": "code",
   "execution_count": null,
   "outputs": [],
   "source": [
    "%reload_ext autoreload\n",
    "%autoreload 2"
   ],
   "metadata": {
    "collapsed": false
   },
   "id": "a75b337d1c5c48ec"
  },
  {
   "cell_type": "code",
   "execution_count": null,
   "id": "initial_id",
   "metadata": {
    "collapsed": true
   },
   "outputs": [],
   "source": [
    "import chromadb\n",
    "import pandas as pd\n",
    "from chromadb.config import Settings\n",
    "import matplotlib.pyplot as plt\n",
    "import seaborn as sns\n",
    "import math\n",
    "from tqdm.notebook import tqdm"
   ]
  },
  {
   "cell_type": "markdown",
   "source": [
    "### Load Synthetic Dataset"
   ],
   "metadata": {
    "collapsed": false
   },
   "id": "c42290f51a6455b2"
  },
  {
   "cell_type": "code",
   "execution_count": null,
   "outputs": [],
   "source": [
    "csv_file_path = 'data/synthetic_clusters_colored.csv'\n",
    "data = pd.read_csv(csv_file_path)"
   ],
   "metadata": {
    "collapsed": false
   },
   "id": "253c2816f88051b9"
  },
  {
   "cell_type": "code",
   "execution_count": null,
   "outputs": [],
   "source": [
    "query_color = \"purple\"\n",
    "query_point = data[data['cluster'] == query_color][['x', 'y']].iloc[0]"
   ],
   "metadata": {
    "collapsed": false
   },
   "id": "dca1e54a4b31d492"
  },
  {
   "cell_type": "markdown",
   "source": [],
   "metadata": {
    "collapsed": false
   },
   "id": "1156cd727a92a8be"
  },
  {
   "cell_type": "code",
   "execution_count": null,
   "outputs": [],
   "source": [
    "plt.figure(figsize=(8, 6))\n",
    "for color in data['cluster'].unique().tolist():\n",
    "    # Select data points belonging to each cluster/color\n",
    "    cluster_data = data[data['cluster'] == color]\n",
    "    plt.scatter(cluster_data['x'], cluster_data['y'], color=color, label=f'{color.capitalize()} Cluster')\n",
    "\n",
    "# Highlight the query point\n",
    "plt.scatter(query_point['x'], query_point['y'], color='darkorange', edgecolor='darkorange', label='Query', zorder=5)\n",
    "\n",
    "plt.title('Visualization of Synthetic Clusters')\n",
    "plt.xlabel('x')\n",
    "plt.ylabel('y')\n",
    "plt.legend()\n",
    "plt.show()"
   ],
   "metadata": {
    "collapsed": false
   },
   "id": "15e956635b89d4a8"
  },
  {
   "cell_type": "markdown",
   "source": [
    "### Setup Database"
   ],
   "metadata": {
    "collapsed": false
   },
   "id": "2ec1e103618dcc2b"
  },
  {
   "cell_type": "code",
   "execution_count": null,
   "outputs": [],
   "source": [
    "client = chromadb.Client()\n",
    "\n",
    "collections = client.list_collections()\n",
    "if collections:\n",
    "    client.delete_collection(collections[0].name)"
   ],
   "metadata": {
    "collapsed": false
   },
   "id": "c4fb7f4c17ab0c40"
  },
  {
   "cell_type": "code",
   "execution_count": null,
   "outputs": [],
   "source": [
    "n_categories = [4]\n",
    "\n",
    "index_configuraiton = {\n",
    "    \"lmi:epochs\": \"[200]\",\n",
    "    \"lmi:model_types\": \"['MLP']\",\n",
    "    \"lmi:lrs\": \"[0.01]\",\n",
    "    \"lmi:n_categories\": f\"{str(n_categories)}\",\n",
    "    \"lmi:kmeans\": \"{'verbose': False, 'seed': 2023, 'nredo': 10}\",\n",
    "}\n",
    "\n",
    "collection_name = \"synthetic_collection\"\n",
    "collection = client.create_collection(\n",
    "    name=collection_name,\n",
    "    metadata=index_configuraiton\n",
    ")"
   ],
   "metadata": {
    "collapsed": false
   },
   "id": "f2c3fba64a0da152"
  },
  {
   "cell_type": "code",
   "execution_count": null,
   "outputs": [],
   "source": [
    "# Use batch upload just to test it out\n",
    "batch_size = 25\n",
    "for i in tqdm(range(0, len(data), batch_size), desc=\"Adding documents\"):\n",
    "    collection.add(\n",
    "        embeddings=data[['x', 'y']].iloc[i: i + batch_size].values.tolist(),\n",
    "        metadatas=[{\"cluster\": cluster} for cluster in data['cluster'].iloc[i: i + batch_size]],\n",
    "        ids=data['id'].iloc[i: i + batch_size].values.tolist(),\n",
    "    )\n",
    "\n",
    "bucket_assignment = collection.build_index()\n",
    "\n",
    "# Map the ids in data to buckets using bucket_labels_new_format (assuming this exists outside this function)\n",
    "data['bucket'] = data['id'].map(lambda x: list(bucket_assignment.get(x, [])))\n",
    "data['bucket_str'] = data['bucket'].apply(lambda x: str(x))"
   ],
   "metadata": {
    "collapsed": false
   },
   "id": "d3793c4cfa6eabfd"
  },
  {
   "cell_type": "markdown",
   "source": [
    "### Visualize buckets"
   ],
   "metadata": {
    "collapsed": false
   },
   "id": "9f0e38d9da32d82e"
  },
  {
   "cell_type": "code",
   "execution_count": null,
   "outputs": [],
   "source": [
    "def plot_bucket_items(data, use_colors):\n",
    "    \"\"\"\n",
    "    Plot the number of items in each bucket, with optional color coding by cluster.\n",
    "\n",
    "    Parameters:\n",
    "    data (DataFrame): The data frame containing the 'id', 'bucket', and 'cluster' columns.\n",
    "    use_colors (bool): If True, use different colors for each cluster in the visualization.\n",
    "    \"\"\"\n",
    "    if use_colors:\n",
    "        # Count the number of points from each cluster in each mapped bucket\n",
    "        bucket_cluster_counts = data.groupby(['bucket_str', 'cluster']).size().unstack(fill_value=0)\n",
    "        plot_data = bucket_cluster_counts.reset_index().melt(id_vars='bucket_str', var_name='cluster', value_name='count')\n",
    "        palette = {cluster: cluster for cluster in data['cluster'].unique()}\n",
    "        \n",
    "        # Create the bar plot with colors\n",
    "        plt.figure(figsize=(10, 6))\n",
    "        ax = sns.barplot(data=plot_data, x='bucket_str', y='count', hue='cluster', palette=palette)\n",
    "    else:\n",
    "        # Count the total number of items in each bucket\n",
    "        bucket_counts = data.groupby('bucket_str').size()\n",
    "        plot_data = bucket_counts.reset_index(name='count')\n",
    "\n",
    "        # Create the bar plot without colors\n",
    "        plt.figure(figsize=(10, 6))\n",
    "        ax = sns.barplot(data=plot_data, x='bucket_str', y='count')\n",
    "    \n",
    "    plt.title('Number of Items in Each Bucket')\n",
    "    plt.xlabel('Bucket')\n",
    "    plt.ylabel('Count')\n",
    "\n",
    "    # Annotate each bar with the count of elements\n",
    "    for p in ax.patches:\n",
    "        bar_height = int(p.get_height())\n",
    "        if bar_height > 0:  # Only annotate bars with a height greater than zero\n",
    "            ax.annotate(f'{bar_height}', (p.get_x() + p.get_width() / 2., bar_height),\n",
    "                        ha='center', va='center', fontsize=10, color='black', xytext=(0, 5),\n",
    "                        textcoords='offset points')\n",
    "\n",
    "    plt.show()"
   ],
   "metadata": {
    "collapsed": false
   },
   "id": "bd1a3362b5fa9728"
  },
  {
   "cell_type": "code",
   "execution_count": null,
   "outputs": [],
   "source": [
    "plot_bucket_items(data, False)"
   ],
   "metadata": {
    "collapsed": false
   },
   "id": "ba1c059d5e12f789"
  },
  {
   "cell_type": "code",
   "execution_count": null,
   "outputs": [],
   "source": [
    "plot_bucket_items(data, True)"
   ],
   "metadata": {
    "collapsed": false
   },
   "id": "4ef64a67289f1726"
  },
  {
   "cell_type": "markdown",
   "source": [
    "### Perform Qeries and visualize their bucket order "
   ],
   "metadata": {
    "collapsed": false
   },
   "id": "2713caa806441d79"
  },
  {
   "cell_type": "code",
   "execution_count": null,
   "outputs": [],
   "source": [
    "def visualize_bucket_order(data, bucket_order):\n",
    "    order_labels = [str(list(bucket)) for bucket in bucket_order]  # Convert to string with brackets\n",
    "\n",
    "    bucket_cluster_counts = data.groupby(['bucket_str', 'cluster']).size().unstack(fill_value=0)\n",
    "    # Extract the counts for the specified color\n",
    "    cluster_specific_counts = bucket_cluster_counts[filter_color]\n",
    "    \n",
    "    # Reindex the bucket counts according to the specified order\n",
    "    ordered_counts = cluster_specific_counts.reindex(order_labels, fill_value=0).reset_index()\n",
    "    ordered_counts.columns = ['bucket', 'count']\n",
    "    \n",
    "    # Create the bar plot\n",
    "    plt.figure(figsize=(10, 6))\n",
    "    sns.barplot(data=ordered_counts, x='bucket', y='count', color=filter_color)\n",
    "    plt.title(f'Number of Items from {filter_color} Cluster in Ordered Buckets')\n",
    "    plt.xlabel('Bucket')\n",
    "    plt.ylabel('Count')\n",
    "    plt.show()"
   ],
   "metadata": {
    "collapsed": false
   },
   "id": "a1440f08df6f3532"
  },
  {
   "cell_type": "code",
   "execution_count": null,
   "outputs": [],
   "source": [
    "# Output from ChromaDB\n",
    "expected_output = [['id70', 'id74', 'id10', 'id86', 'id29', 'id76', 'id92', 'id3', 'id23', 'id47']]"
   ],
   "metadata": {
    "collapsed": false
   },
   "id": "c00effaca454bcb3"
  },
  {
   "cell_type": "markdown",
   "source": [],
   "metadata": {
    "collapsed": false
   },
   "id": "1a22580723c14580"
  },
  {
   "cell_type": "code",
   "execution_count": null,
   "outputs": [],
   "source": [
    "%%time\n",
    "filter_color = \"red\"\n",
    "results = collection.query(\n",
    "    query_embeddings=list(query_point),\n",
    "    include=[\"metadatas\", 'embeddings', 'distances'],\n",
    "    where={\"cluster\": filter_color},\n",
    "    n_results=10,\n",
    "    n_buckets=1,\n",
    "    bruteforce_threshold=0.0,\n",
    "    constraint_weight=0.0,\n",
    "    search_until_bucket_not_empty=True,\n",
    ")"
   ],
   "metadata": {
    "collapsed": false
   },
   "id": "9bc3a2a68fb7660e"
  },
  {
   "cell_type": "code",
   "execution_count": null,
   "outputs": [],
   "source": [
    "print(results['ids'])\n",
    "print(results['distances'])\n",
    "print(results['metadatas'])\n",
    "print(results['bucket_order'])\n",
    "print(results['bruteforce_used'])\n",
    "print(results['constraint_weight'])\n",
    "assert results['ids'] == expected_output"
   ],
   "metadata": {
    "collapsed": false
   },
   "id": "d3c7ff5f37c2598e"
  },
  {
   "cell_type": "code",
   "execution_count": null,
   "outputs": [],
   "source": [
    "visualize_bucket_order(data, results['bucket_order'][0])"
   ],
   "metadata": {
    "collapsed": false
   },
   "id": "79f4dd07667e833f"
  },
  {
   "cell_type": "code",
   "execution_count": null,
   "outputs": [],
   "source": [
    "expected_output = [['id70', 'id74', 'id10', 'id86', 'id29', 'id76', 'id92', 'id3', 'id23', 'id47']]"
   ],
   "metadata": {
    "collapsed": false
   },
   "id": "cd9fcbd13ee6389"
  },
  {
   "cell_type": "markdown",
   "source": [],
   "metadata": {
    "collapsed": false
   },
   "id": "ae6ca813547a90c2"
  },
  {
   "cell_type": "code",
   "execution_count": null,
   "outputs": [],
   "source": [
    "%%time\n",
    "results = collection.query(\n",
    "    query_embeddings=list(query_point),\n",
    "    include=[\"metadatas\", 'embeddings', 'distances'],\n",
    "    where={\"cluster\": filter_color},\n",
    "    n_results=10,\n",
    "    n_buckets=1,\n",
    "    bruteforce_threshold=0.0, \n",
    "    constraint_weight=1,\n",
    "    search_until_bucket_not_empty=True\n",
    ")"
   ],
   "metadata": {
    "collapsed": false
   },
   "id": "8925cdb6ae9eef98"
  },
  {
   "cell_type": "code",
   "execution_count": null,
   "outputs": [],
   "source": [
    "print(results['ids'])\n",
    "print(results['distances'])\n",
    "print(results['metadatas'])\n",
    "print(results['bucket_order'])\n",
    "print(results['bruteforce_used'])\n",
    "print(results['constraint_weight'])\n",
    "assert results['ids'] == expected_output"
   ],
   "metadata": {
    "collapsed": false
   },
   "id": "9868b8673ce2553"
  },
  {
   "cell_type": "code",
   "execution_count": null,
   "outputs": [],
   "source": [
    "visualize_bucket_order(data, results['bucket_order'][0])"
   ],
   "metadata": {
    "collapsed": false
   },
   "id": "5d384a0d2b3b5c3f"
  }
 ],
 "metadata": {
  "kernelspec": {
   "display_name": "Python 3",
   "language": "python",
   "name": "python3"
  },
  "language_info": {
   "codemirror_mode": {
    "name": "ipython",
    "version": 2
   },
   "file_extension": ".py",
   "mimetype": "text/x-python",
   "name": "python",
   "nbconvert_exporter": "python",
   "pygments_lexer": "ipython2",
   "version": "2.7.6"
  }
 },
 "nbformat": 4,
 "nbformat_minor": 5
}
