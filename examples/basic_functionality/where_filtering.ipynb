{
 "cells": [
  {
   "cell_type": "code",
   "execution_count": null,
   "outputs": [],
   "source": [
    "%reload_ext autoreload\n",
    "%autoreload 2"
   ],
   "metadata": {
    "collapsed": false
   }
  },
  {
   "cell_type": "markdown",
   "source": [
    "# Where Filtering\n",
    "This notebook demonstrates how to use where filtering to filter the data returned from get or query."
   ],
   "metadata": {
    "collapsed": false
   }
  },
  {
   "cell_type": "code",
   "execution_count": null,
   "metadata": {},
   "outputs": [],
   "source": [
    "import chromadb"
   ]
  },
  {
   "cell_type": "code",
   "execution_count": null,
   "metadata": {},
   "outputs": [],
   "source": [
    "client = chromadb.Client()"
   ]
  },
  {
   "cell_type": "code",
   "execution_count": null,
   "outputs": [],
   "source": [
    "collections = client.list_collections()\n",
    "if collections:\n",
    "    client.delete_collection(collections[0].name)"
   ],
   "metadata": {
    "collapsed": false
   }
  },
  {
   "cell_type": "code",
   "execution_count": null,
   "metadata": {},
   "outputs": [],
   "source": [
    "# Create a new chroma collection\n",
    "collection_name = \"filter_example_collection\"\n",
    "collection = client.create_collection(name=collection_name)"
   ]
  },
  {
   "cell_type": "code",
   "execution_count": null,
   "metadata": {},
   "outputs": [],
   "source": [
    "# Add some data to the collection\n",
    "collection.add(\n",
    "    embeddings=[\n",
    "        [1.1, 2.3, 3.2],\n",
    "        [4.5, 6.9, 4.4],\n",
    "        [1.1, 2.3, 3.2],\n",
    "        [4.5, 6.9, 4.4],\n",
    "        [1.1, 2.3, 3.2],\n",
    "        [4.5, 6.9, 4.4],\n",
    "        [1.1, 2.3, 3.2],\n",
    "        [4.5, 6.9, 4.4],\n",
    "    ],\n",
    "    metadatas=[\n",
    "        {\"status\": \"read\"},\n",
    "        {\"status\": \"unread\"},\n",
    "        {\"status\": \"read\"},\n",
    "        {\"status\": \"unread\"},\n",
    "        {\"status\": \"read\"},\n",
    "        {\"status\": \"unread\"},\n",
    "        {\"status\": \"read\"},\n",
    "        {\"status\": \"unread\"},\n",
    "    ],\n",
    "    documents=[\"A document that discusses domestic policy\", \"A document that discusses international affairs\", \"A document that discusses kittens\", \"A document that discusses dogs\", \"A document that discusses chocolate\", \"A document that is sixth that discusses government\", \"A document that discusses dogs affairs\", \"A document that discusses global affairs\"],\n",
    "    ids=[\"id1\", \"id2\", \"id3\", \"id4\", \"id5\", \"id6\", \"id7\", \"id8\"],\n",
    ")"
   ]
  },
  {
   "cell_type": "code",
   "execution_count": null,
   "outputs": [],
   "source": [
    "collection.build_index()"
   ],
   "metadata": {
    "collapsed": false
   }
  },
  {
   "cell_type": "code",
   "execution_count": null,
   "outputs": [],
   "source": [
    "collection.get(\n",
    "    include=[\"documents\", \"embeddings\"],\n",
    "    where_document={\"$hybrid\":{ \"$hybrid_terms\": [\"affairs\", \"dogs\"]}},\n",
    ")"
   ],
   "metadata": {
    "collapsed": false
   }
  },
  {
   "cell_type": "code",
   "execution_count": null,
   "metadata": {},
   "outputs": [],
   "source": [
    "# Get documents that are read and about affairs\n",
    "collection.get(where_document={\"$contains\": \"affairs\"})"
   ]
  },
  {
   "cell_type": "code",
   "execution_count": null,
   "metadata": {},
   "outputs": [],
   "source": [
    "# Get documents that are about global affairs or domestic policy\n",
    "collection.get(where_document={\"$or\": [{\"$contains\": \"global affairs\"}, {\"$contains\": \"domestic policy\"}]})"
   ]
  },
  {
   "cell_type": "code",
   "execution_count": null,
   "outputs": [],
   "source": [
    "# Get 5 closest vectors to [0, 0, 0] that are about affairs\n",
    "# Outputs 3 docs because collection only has 3 docs about affairs\n",
    "collection.query(\n",
    "    query_embeddings=[[0, 0, 0]], \n",
    "    where_document={\"$hybrid\":{ \"$hybrid_terms\": [\"affairs\", \"dogs\"], \"$hybrid_weight\": 0.5}}, \n",
    "    n_results=5,\n",
    "    n_buckets=4,\n",
    "    include=[\"documents\", \"distances\", \"embeddings\"]\n",
    ")"
   ],
   "metadata": {
    "collapsed": false
   }
  },
  {
   "cell_type": "code",
   "execution_count": null,
   "metadata": {},
   "outputs": [],
   "source": [
    "collection.query(query_embeddings=[[0, 0, 0]], where_document={\"$not_contains\": \"domestic policy\"}, n_results=5)"
   ]
  },
  {
   "cell_type": "markdown",
   "metadata": {
    "collapsed": false
   },
   "source": [
    "# Where Filtering With Logical Operators\n",
    "This section demonstrates how one can use the logical operators in `where` filtering.\n",
    "\n",
    "Chroma currently supports: `$and` and `$or`operators.\n",
    "\n",
    "> Note: Logical operators can be nested"
   ]
  },
  {
   "cell_type": "code",
   "execution_count": null,
   "metadata": {
    "collapsed": false
   },
   "outputs": [],
   "source": [
    "# Or Logical Operator Filtering\n",
    "# import chromadb\n",
    "client = chromadb.Client()\n",
    "collection = client.get_or_create_collection(\"test-where-list\")\n",
    "collection.add(documents=[\"Article by john\", \"Article by Jack\", \"Article by Jill\"],\n",
    "               metadatas=[{\"author\": \"john\"}, {\"author\": \"jack\"}, {\"author\": \"jill\"}], ids=[\"1\", \"2\", \"3\"])\n",
    "\n",
    "collection.get(where={\"$or\": [{\"author\": \"john\"}, {\"author\": \"jack\"}]})\n"
   ]
  },
  {
   "cell_type": "code",
   "execution_count": null,
   "metadata": {
    "collapsed": false
   },
   "outputs": [],
   "source": [
    "# And Logical Operator Filtering\n",
    "collection = client.get_or_create_collection(\"test-where-list\")\n",
    "collection.upsert(documents=[\"Article by john\", \"Article by Jack\", \"Article by Jill\"],\n",
    "               metadatas=[{\"author\": \"john\",\"category\":\"chroma\"}, {\"author\": \"jack\",\"category\":\"ml\"}, {\"author\": \"jill\",\"category\":\"lifestyle\"}], ids=[\"1\", \"2\", \"3\"])\n",
    "collection.get(where={\"$and\": [{\"category\": \"chroma\"}, {\"author\": \"john\"}]})"
   ]
  },
  {
   "cell_type": "code",
   "execution_count": null,
   "metadata": {
    "collapsed": false
   },
   "outputs": [],
   "source": [
    "# And logical that doesn't match anything\n",
    "collection.get(where={\"$and\": [{\"category\": \"chroma\"}, {\"author\": \"jill\"}]})"
   ]
  },
  {
   "cell_type": "code",
   "execution_count": null,
   "metadata": {
    "collapsed": false
   },
   "outputs": [],
   "source": [
    "# Combined And and Or Logical Operator Filtering\n",
    "collection.get(where={\"$and\": [{\"category\": \"chroma\"}, {\"$or\": [{\"author\": \"john\"}, {\"author\": \"jack\"}]}]})"
   ]
  },
  {
   "cell_type": "code",
   "execution_count": null,
   "metadata": {
    "collapsed": false
   },
   "outputs": [],
   "source": [
    "collection.get(where_document={\"$contains\": \"Article\"},where={\"$and\": [{\"category\": \"chroma\"}, {\"$or\": [{\"author\": \"john\"}, {\"author\": \"jack\"}]}]})"
   ]
  },
  {
   "cell_type": "code",
   "execution_count": null,
   "outputs": [],
   "source": [
    "from rank_bm25 import BM25Okapi\n",
    "import numpy as np\n",
    "\n",
    "documents = [\n",
    "    'A document that discusses international affairs',\n",
    "    'A document that discusses global affairs',\n",
    "    'A document that discusses dogs',\n",
    "    'A document that discusses dogs affairs',\n",
    "    'A document that discusses domestic policy',\n",
    "    'A document that discusses kittens',\n",
    "    'A document that discusses chocolate',\n",
    "    'A document that is sixth that discusses government'\n",
    "]\n",
    "\n",
    "tokenized_docs = [doc.lower().split(\" \") for doc in documents]\n",
    "\n",
    "bm25 = BM25Okapi(tokenized_docs)\n",
    "\n",
    "query = [\"dogs\", \"affairs\"]\n",
    "\n",
    "scores = bm25.get_scores(query)\n",
    "results = np.argsort(scores)[::-1]\n",
    "\n",
    "ranked_documents = [documents[idx] for idx in results if scores[idx] > 0]\n",
    "\n",
    "for doc in ranked_documents:\n",
    "    print(doc)"
   ],
   "metadata": {
    "collapsed": false
   }
  },
  {
   "cell_type": "code",
   "execution_count": null,
   "outputs": [],
   "source": [
    "import sqlite3\n",
    "\n",
    "conn = sqlite3.connect(':memory:')\n",
    "c = conn.cursor()\n",
    "\n",
    "c.execute(\"CREATE VIRTUAL TABLE docs USING fts5(content, tokenize='trigram')\")\n",
    "\n",
    "documents = [\n",
    "    'A document that discusses international affairs',\n",
    "    'A document that discusses global affairs',\n",
    "    'A document that discusses dogs',\n",
    "    'A document that discusses dogs affairs',\n",
    "    'A document that discusses domestic policy',\n",
    "    'A document that discusses kittens',\n",
    "    'A document that discusses chocolate',\n",
    "    'A document that is sixth that discusses government'\n",
    "]\n",
    "\n",
    "for doc in documents:\n",
    "    c.execute('INSERT INTO docs (content) VALUES (?)', (doc,))\n",
    "\n",
    "conn.commit()\n",
    "\n",
    "search_terms = 'dogs OR affairs'\n",
    "\n",
    "c.execute(f\"SELECT content FROM docs WHERE docs MATCH '{search_terms}' ORDER BY rank\")\n",
    "\n",
    "results = c.fetchall()\n",
    "for content in results:\n",
    "    print(f'Content: {content}')\n",
    "\n",
    "conn.close()\n"
   ],
   "metadata": {
    "collapsed": false
   }
  },
  {
   "cell_type": "code",
   "execution_count": null,
   "outputs": [],
   "source": [
    "rankings = {\n",
    "    'query1': ['id7', 'id4', 'id8', 'id2'],\n",
    "    'query2': ['id3', 'id5', 'id7', 'id1', 'id6'],\n",
    "}\n",
    "\n",
    "def result_func(ranking, q):\n",
    "    return ranking[q]\n",
    "\n",
    "def rank_func(results, d):\n",
    "    return results.index(d) + 1 # adding 1 because ranks start from 1\n",
    "\n",
    "def reciprocal_rank_fusion(queries, d, k, result_func, rank_func, rankings):\n",
    "    return sum([1.0 / (k + rank_func(result_func(rankings, q), d)) if d in result_func(rankings, q) else 0 for q in queries])\n",
    "\n",
    "k = 5\n",
    "queries = list(rankings.keys())\n",
    "\n",
    "combined_ids = set(doc_id for query_results in rankings.values() for doc_id in query_results)\n",
    "\n",
    "id_scores = {doc: reciprocal_rank_fusion(queries, doc, k, result_func, rank_func, rankings) for doc in combined_ids}\n",
    "\n",
    "sorted_documents = sorted(id_scores.items(), key=lambda x: x[1], reverse=True)\n",
    "\n",
    "top_3_documents = sorted_documents[:5]\n",
    "\n",
    "for doc, score in top_3_documents:\n",
    "    print(f\"{doc}: {score}\")"
   ],
   "metadata": {
    "collapsed": false
   }
  }
 ],
 "metadata": {
  "kernelspec": {
   "display_name": "Python 3",
   "language": "python",
   "name": "python3"
  },
  "language_info": {
   "codemirror_mode": {
    "name": "ipython",
    "version": 3
   },
   "file_extension": ".py",
   "mimetype": "text/x-python",
   "name": "python",
   "nbconvert_exporter": "python",
   "pygments_lexer": "ipython3",
   "version": "3.11.6"
  },
  "orig_nbformat": 4,
  "vscode": {
   "interpreter": {
    "hash": "2395417914bce3169eff793a7d01bf858f95b138000d8d354eed93ead856f5e6"
   }
  }
 },
 "nbformat": 4,
 "nbformat_minor": 2
}
