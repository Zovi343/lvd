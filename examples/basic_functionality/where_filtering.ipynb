{
 "cells": [
  {
   "cell_type": "code",
   "execution_count": null,
   "outputs": [],
   "source": [
    "%reload_ext autoreload\n",
    "%autoreload 2"
   ],
   "metadata": {
    "collapsed": false
   }
  },
  {
   "cell_type": "markdown",
   "source": [
    "# Where Filtering\n",
    "This notebook demonstrates how to use where filtering to filter the data returned from get or query."
   ],
   "metadata": {
    "collapsed": false
   }
  },
  {
   "cell_type": "code",
   "execution_count": null,
   "metadata": {},
   "outputs": [],
   "source": [
    "import chromadb"
   ]
  },
  {
   "cell_type": "code",
   "execution_count": null,
   "metadata": {},
   "outputs": [],
   "source": [
    "client = chromadb.Client()"
   ]
  },
  {
   "cell_type": "code",
   "execution_count": null,
   "outputs": [],
   "source": [
    "collections = client.list_collections()\n",
    "if collections:\n",
    "    client.delete_collection(collections[0].name)"
   ],
   "metadata": {
    "collapsed": false
   }
  },
  {
   "cell_type": "code",
   "execution_count": null,
   "metadata": {},
   "outputs": [],
   "source": [
    "# Create a new chroma collection\n",
    "collection_name = \"filter_example_collection\"\n",
    "collection = client.create_collection(name=collection_name)"
   ]
  },
  {
   "cell_type": "code",
   "execution_count": null,
   "metadata": {},
   "outputs": [],
   "source": [
    "# Add some data to the collection\n",
    "collection.add(\n",
    "    embeddings=[\n",
    "        [1.1, 2.3, 3.2],\n",
    "        [4.5, 6.9, 4.4],\n",
    "        [1.1, 2.3, 3.2],\n",
    "        [4.5, 6.9, 4.4],\n",
    "        [1.1, 2.3, 3.2],\n",
    "        [4.5, 6.9, 4.4],\n",
    "        [1.1, 2.3, 3.2],\n",
    "        [4.5, 6.9, 4.4],\n",
    "    ],\n",
    "    metadatas=[\n",
    "        {\"status\": \"read\"},\n",
    "        {\"status\": \"unread\"},\n",
    "        {\"status\": \"read\"},\n",
    "        {\"status\": \"unread\"},\n",
    "        {\"status\": \"read\"},\n",
    "        {\"status\": \"unread\"},\n",
    "        {\"status\": \"read\"},\n",
    "        {\"status\": \"unread\"},\n",
    "    ],\n",
    "    documents=[\"A document that discusses domestic policy\", \"A document that discusses international affairs\", \"A document that discusses kittens\", \"A document that discusses dogs\", \"A document that discusses chocolate\", \"A document that is sixth that discusses government\", \"A document that discusses dogs affairs\", \"A document that discusses global affairs\"],\n",
    "    ids=[\"id1\", \"id2\", \"id3\", \"id4\", \"id5\", \"id6\", \"id7\", \"id8\"],\n",
    ")"
   ]
  },
  {
   "cell_type": "code",
   "execution_count": null,
   "outputs": [],
   "source": [
    "collection.build_index()"
   ],
   "metadata": {
    "collapsed": false
   }
  },
  {
   "cell_type": "code",
   "execution_count": null,
   "outputs": [],
   "source": [
    "collection.get(\n",
    "    include=[\"documents\", \"embeddings\"],\n",
    "    where_document={\"$hybrid\":{ \"$hybrid_terms\": [\"affairs\", \"dogs\"]}},\n",
    ")"
   ],
   "metadata": {
    "collapsed": false
   }
  },
  {
   "cell_type": "code",
   "execution_count": null,
   "metadata": {},
   "outputs": [],
   "source": [
    "# Get documents that are read and about affairs\n",
    "collection.get(where_document={\"$contains\": \"affairs\"})"
   ]
  },
  {
   "cell_type": "code",
   "execution_count": null,
   "metadata": {},
   "outputs": [],
   "source": [
    "# Get documents that are about global affairs or domestic policy\n",
    "collection.get(where_document={\"$or\": [{\"$contains\": \"global affairs\"}, {\"$contains\": \"domestic policy\"}]})"
   ]
  },
  {
   "cell_type": "code",
   "execution_count": null,
   "outputs": [],
   "source": [
    "# Get 5 closest vectors to [0, 0, 0] that are about affairs\n",
    "# Outputs 3 docs because collection only has 3 docs about affairs\n",
    "collection.query(\n",
    "    query_embeddings=[[0, 0, 0]], \n",
    "    where_document={\"$hybrid\":{ \"$hybrid_terms\": [\"affairs\", \"dogs\"], \"$hybrid_weight\": 0.5}}, \n",
    "    n_results=5,\n",
    "    n_buckets=4,\n",
    "    include=[\"documents\", \"distances\", \"embeddings\"]\n",
    ")"
   ],
   "metadata": {
    "collapsed": false
   }
  },
  {
   "cell_type": "code",
   "execution_count": null,
   "metadata": {},
   "outputs": [],
   "source": [
    "collection.query(query_embeddings=[[0, 0, 0]], where_document={\"$not_contains\": \"domestic policy\"}, n_results=5)"
   ]
  },
  {
   "cell_type": "markdown",
   "metadata": {
    "collapsed": false
   },
   "source": [
    "# Where Filtering With Logical Operators\n",
    "This section demonstrates how one can use the logical operators in `where` filtering.\n",
    "\n",
    "Chroma currently supports: `$and` and `$or`operators.\n",
    "\n",
    "> Note: Logical operators can be nested"
   ]
  },
  {
   "cell_type": "code",
   "execution_count": null,
   "metadata": {
    "collapsed": false
   },
   "outputs": [],
   "source": [
    "# Or Logical Operator Filtering\n",
    "# import chromadb\n",
    "client = chromadb.Client()\n",
    "collection = client.get_or_create_collection(\"test-where-list\")\n",
    "collection.add(documents=[\"Article by john\", \"Article by Jack\", \"Article by Jill\"],\n",
    "               metadatas=[{\"author\": \"john\"}, {\"author\": \"jack\"}, {\"author\": \"jill\"}], ids=[\"1\", \"2\", \"3\"])\n",
    "\n",
    "collection.get(where={\"$or\": [{\"author\": \"john\"}, {\"author\": \"jack\"}]})\n"
   ]
  },
  {
   "cell_type": "code",
   "execution_count": null,
   "metadata": {
    "collapsed": false
   },
   "outputs": [],
   "source": [
    "# And Logical Operator Filtering\n",
    "collection = client.get_or_create_collection(\"test-where-list\")\n",
    "collection.upsert(documents=[\"Article by john\", \"Article by Jack\", \"Article by Jill\"],\n",
    "               metadatas=[{\"author\": \"john\",\"category\":\"chroma\"}, {\"author\": \"jack\",\"category\":\"ml\"}, {\"author\": \"jill\",\"category\":\"lifestyle\"}], ids=[\"1\", \"2\", \"3\"])\n",
    "collection.get(where={\"$and\": [{\"category\": \"chroma\"}, {\"author\": \"john\"}]})"
   ]
  },
  {
   "cell_type": "code",
   "execution_count": null,
   "metadata": {
    "collapsed": false
   },
   "outputs": [],
   "source": [
    "# And logical that doesn't match anything\n",
    "collection.get(where={\"$and\": [{\"category\": \"chroma\"}, {\"author\": \"jill\"}]})"
   ]
  },
  {
   "cell_type": "code",
   "execution_count": null,
   "metadata": {
    "collapsed": false
   },
   "outputs": [],
   "source": [
    "# Combined And and Or Logical Operator Filtering\n",
    "collection.get(where={\"$and\": [{\"category\": \"chroma\"}, {\"$or\": [{\"author\": \"john\"}, {\"author\": \"jack\"}]}]})"
   ]
  },
  {
   "cell_type": "code",
   "execution_count": null,
   "metadata": {
    "collapsed": false
   },
   "outputs": [],
   "source": [
    "collection.get(where_document={\"$contains\": \"Article\"},where={\"$and\": [{\"category\": \"chroma\"}, {\"$or\": [{\"author\": \"john\"}, {\"author\": \"jack\"}]}]})"
   ]
  },
  {
   "cell_type": "markdown",
   "source": [
    "## LVD MODIFICATION START"
   ],
   "metadata": {
    "collapsed": false
   }
  },
  {
   "cell_type": "markdown",
   "source": [
    "# Testing Playgroung"
   ],
   "metadata": {
    "collapsed": false
   }
  },
  {
   "cell_type": "code",
   "execution_count": null,
   "outputs": [],
   "source": [
    "from rank_bm25 import BM25Okapi\n",
    "import numpy as np\n",
    "\n",
    "documents = [\n",
    "    'A document that discusses international affairs',\n",
    "    'A document that discusses global affairs',\n",
    "    'A document that discusses dogs',\n",
    "    'A document that discusses dogs affairs',\n",
    "    'A document that discusses domestic policy',\n",
    "    'A document that discusses kittens',\n",
    "    'A document that discusses chocolate',\n",
    "    'A document that is sixth that discusses government'\n",
    "]\n",
    "\n",
    "tokenized_docs = [doc.lower().split(\" \") for doc in documents]\n",
    "\n",
    "bm25 = BM25Okapi(tokenized_docs)\n",
    "\n",
    "query = [\"dogs\", \"affairs\"]\n",
    "\n",
    "scores = bm25.get_scores(query)\n",
    "results = np.argsort(scores)[::-1]\n",
    "\n",
    "ranked_documents = [documents[idx] for idx in results if scores[idx] > 0]\n",
    "\n",
    "for doc in ranked_documents:\n",
    "    print(doc)"
   ],
   "metadata": {
    "collapsed": false
   }
  },
  {
   "cell_type": "code",
   "execution_count": null,
   "outputs": [],
   "source": [
    "import sqlite3\n",
    "\n",
    "conn = sqlite3.connect(':memory:')\n",
    "c = conn.cursor()\n",
    "\n",
    "c.execute(\"CREATE VIRTUAL TABLE docs USING fts5(content, tokenize='trigram')\")\n",
    "\n",
    "documents = [\n",
    "    'A document that discusses international affairs',\n",
    "    'A document that discusses global affairs',\n",
    "    'A document that discusses dogs',\n",
    "    'A document that discusses dogs affairs',\n",
    "    'A document that discusses domestic policy',\n",
    "    'A document that discusses kittens',\n",
    "    'A document that discusses chocolate',\n",
    "    'A document that is sixth that discusses government'\n",
    "]\n",
    "\n",
    "for doc in documents:\n",
    "    c.execute('INSERT INTO docs (content) VALUES (?)', (doc,))\n",
    "\n",
    "conn.commit()\n",
    "\n",
    "search_terms = 'dogs OR affairs'\n",
    "\n",
    "c.execute(f\"SELECT content FROM docs WHERE docs MATCH '{search_terms}' ORDER BY rank\")\n",
    "\n",
    "results = c.fetchall()\n",
    "for content in results:\n",
    "    print(f'Content: {content}')\n",
    "\n",
    "conn.close()\n"
   ],
   "metadata": {
    "collapsed": false
   }
  },
  {
   "cell_type": "code",
   "execution_count": null,
   "outputs": [],
   "source": [
    "rankings = {\n",
    "    'query1': ['id7', 'id4', 'id8', 'id2'],\n",
    "    'query2': ['id3', 'id5', 'id7', 'id1', 'id6'],\n",
    "}\n",
    "\n",
    "def result_func(ranking, q):\n",
    "    return ranking[q]\n",
    "\n",
    "def rank_func(results, d):\n",
    "    return results.index(d) + 1 # adding 1 because ranks start from 1\n",
    "\n",
    "def reciprocal_rank_fusion(queries, d, k, result_func, rank_func, rankings):\n",
    "    return sum([1.0 / (k + rank_func(result_func(rankings, q), d)) if d in result_func(rankings, q) else 0 for q in queries])\n",
    "\n",
    "k = 5\n",
    "queries = list(rankings.keys())\n",
    "\n",
    "combined_ids = set(doc_id for query_results in rankings.values() for doc_id in query_results)\n",
    "\n",
    "id_scores = {doc: reciprocal_rank_fusion(queries, doc, k, result_func, rank_func, rankings) for doc in combined_ids}\n",
    "\n",
    "sorted_documents = sorted(id_scores.items(), key=lambda x: x[1], reverse=True)\n",
    "\n",
    "top_3_documents = sorted_documents[:5]\n",
    "\n",
    "for doc, score in top_3_documents:\n",
    "    print(f\"{doc}: {score}\")"
   ],
   "metadata": {
    "collapsed": false
   }
  },
  {
   "cell_type": "code",
   "execution_count": null,
   "outputs": [],
   "source": [
    "import sqlite3\n",
    "\n",
    "# Connect to a SQLite database in memory\n",
    "conn = sqlite3.connect(':memory:')\n",
    "cursor = conn.cursor()\n",
    "\n",
    "# Create example tables\n",
    "cursor.execute('''CREATE TABLE employees (\n",
    "                    id INTEGER PRIMARY KEY,\n",
    "                    name TEXT NOT NULL,\n",
    "                    department TEXT NOT NULL)''')\n",
    "\n",
    "cursor.execute('''CREATE TABLE departments (\n",
    "                    name TEXT PRIMARY KEY,\n",
    "                    location TEXT NOT NULL)''')\n",
    "\n",
    "# Insert some rows\n",
    "employees = [(1, 'John Doe', 'Engineering'),\n",
    "             (2, 'Jane Doe', 'Marketing'),\n",
    "             (3, 'Mike Smith', 'Engineering')]\n",
    "departments = [('Engineering', 'Building A'),\n",
    "               ('Marketing', 'Building B')]\n",
    "\n",
    "cursor.executemany('INSERT INTO employees VALUES (?, ?, ?)', employees)\n",
    "cursor.executemany('INSERT INTO departments VALUES (?, ?)', departments)\n",
    "conn.commit()\n",
    "\n",
    "# Perform a query with a WHERE clause\n",
    "query = \"SELECT * FROM employees WHERE department = 'Engineering'\"\n",
    "\n",
    "# Use EXPLAIN QUERY PLAN to see what indexes are used\n",
    "cursor.execute(f'EXPLAIN QUERY PLAN {query}')\n",
    "explanation = cursor.fetchall()\n",
    "\n",
    "# Output the explanation\n",
    "for row in explanation:\n",
    "    print(row)\n",
    "\n",
    "# Close the connection\n",
    "conn.close()"
   ],
   "metadata": {
    "collapsed": false
   }
  },
  {
   "cell_type": "code",
   "execution_count": null,
   "outputs": [],
   "source": [
    "import sqlite3\n",
    "\n",
    "# Connect to a SQLite database in memory\n",
    "conn = sqlite3.connect(':memory:')\n",
    "cursor = conn.cursor()\n",
    "\n",
    "# Create the embedding_metadata table\n",
    "cursor.execute('''\n",
    "CREATE TABLE embedding_metadata (\n",
    "    id INTEGER,\n",
    "    key TEXT NOT NULL,\n",
    "    string_value TEXT,\n",
    "    int_value INTEGER,\n",
    "    float_value REAL,\n",
    "    PRIMARY KEY (id, key)\n",
    ");\n",
    "''')\n",
    "\n",
    "# Create the virtual table embedding_fulltext for full-text search\n",
    "cursor.execute('''\n",
    "CREATE VIRTUAL TABLE embedding_fulltext USING fts5(id, string_value);\n",
    "''')\n",
    "\n",
    "cursor.execute('''\n",
    "CREATE INDEX idx_key_string_value ON embedding_metadata(key, string_value);\n",
    "''')\n",
    "\n",
    "# Insert some dummy data into embedding_metadata\n",
    "embedding_metadata = [\n",
    "    (1, 'key1', 'Hello world', 123, 1.23),\n",
    "    (2, 'key2', 'Goodbye world', 456, 4.56),\n",
    "    (3, 'key3', 'Hello again', 789, 7.89)\n",
    "]\n",
    "\n",
    "cursor.executemany('INSERT INTO embedding_metadata VALUES (?, ?, ?, ?, ?)', embedding_metadata)\n",
    "\n",
    "# Insert the same data into embedding_fulltext for full-text search capabilities\n",
    "# Note: Only including id and string_value as specified in the virtual table creation\n",
    "cursor.executemany('INSERT INTO embedding_fulltext (id, string_value) VALUES (?, ?)', [(row[0], row[2]) for row in embedding_metadata])\n",
    "\n",
    "conn.commit()\n",
    "\n",
    "# Perform a query with a WHERE clause on the string_value column\n",
    "query = \"SELECT * FROM embedding_metadata WHERE string_value = 'Hello world' AND key = 'key1'\"\n",
    "\n",
    "# Use EXPLAIN QUERY PLAN to see what happens under the hood\n",
    "cursor.execute(f'EXPLAIN QUERY PLAN {query}')\n",
    "explanation = cursor.fetchall()\n",
    "\n",
    "# Output the explanation\n",
    "for row in explanation:\n",
    "    print(row)\n",
    "\n",
    "# Perform a full-text search query on the virtual table\n",
    "fts_query = \"SELECT * FROM embedding_fulltext WHERE string_value LIKE 'Hello world'\"\n",
    "\n",
    "# Use EXPLAIN QUERY PLAN to see how the full-text search is executed\n",
    "cursor.execute(f'EXPLAIN QUERY PLAN {fts_query}')\n",
    "fts_explanation = cursor.fetchall()\n",
    "\n",
    "# Output the full-text search explanation\n",
    "for row in fts_explanation:\n",
    "    print(row)\n",
    "\n",
    "# Close the connection\n",
    "conn.close()\n"
   ],
   "metadata": {
    "collapsed": false
   }
  },
  {
   "cell_type": "markdown",
   "source": [
    "## LVD MODIFICATION END"
   ],
   "metadata": {
    "collapsed": false
   }
  }
 ],
 "metadata": {
  "kernelspec": {
   "display_name": "Python 3",
   "language": "python",
   "name": "python3"
  },
  "language_info": {
   "codemirror_mode": {
    "name": "ipython",
    "version": 3
   },
   "file_extension": ".py",
   "mimetype": "text/x-python",
   "name": "python",
   "nbconvert_exporter": "python",
   "pygments_lexer": "ipython3",
   "version": "3.11.6"
  },
  "orig_nbformat": 4,
  "vscode": {
   "interpreter": {
    "hash": "2395417914bce3169eff793a7d01bf858f95b138000d8d354eed93ead856f5e6"
   }
  }
 },
 "nbformat": 4,
 "nbformat_minor": 2
}
